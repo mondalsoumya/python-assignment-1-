{
  "nbformat": 4,
  "nbformat_minor": 0,
  "metadata": {
    "colab": {
      "provenance": []
    },
    "kernelspec": {
      "name": "python3",
      "display_name": "Python 3"
    },
    "language_info": {
      "name": "python"
    }
  },
  "cells": [
    {
      "cell_type": "markdown",
      "source": [
        "# **Theoretical Questions**"
      ],
      "metadata": {
        "id": "JLJnVaZcQMeV"
      }
    },
    {
      "cell_type": "markdown",
      "source": [
        "**1. What is Object-Oriented Programming (OOP)?**\n",
        "\n",
        "**Answer:** Object-Oriented Programming (OOP) is a programming paradigm that uses \"objects\" to model real-world entities. These objects encapsulate data and the methods that operate on that data. The four main principles of OOP are encapsulation, abstraction, inheritance, and polymorphism.\n"
      ],
      "metadata": {
        "id": "PZooztV2Rf4o"
      }
    },
    {
      "cell_type": "markdown",
      "source": [
        "**2. What is a class in OOP?**\n",
        "\n",
        "**Answer:** A class in OOP is a blueprint for creating objects. It defines attributes (data) and methods (functions) that the created objects (instances) will have.\n",
        "\n"
      ],
      "metadata": {
        "id": "a0m5FsmDWJss"
      }
    },
    {
      "cell_type": "markdown",
      "source": [
        "**3. What is an object in OOP?**\n",
        "\n",
        "**Answer:** An object is an instance of a class. It represents a specific implementation with actual values for the attributes defined in the class.\n",
        "\n"
      ],
      "metadata": {
        "id": "9-DgCklmWKOR"
      }
    },
    {
      "cell_type": "markdown",
      "source": [
        "**4. What is the difference between abstraction and encapsulation?**\n",
        "\n",
        "**Answer:**\n",
        "- **Abstraction** hides complex implementation details and shows only the essential features.\n",
        "\n",
        "- **Encapsulation** binds data and methods into a single unit and restricts access to some of the object's components."
      ],
      "metadata": {
        "id": "bPJPATz9WKYQ"
      }
    },
    {
      "cell_type": "markdown",
      "source": [
        "**5. What are dunder methods in Python?**\n",
        "\n",
        "**Answer:** Dunder (double underscore) methods are special methods in Python like `__init__`, `__str__`, and `__len__`, used to define behaviors for objects like construction, printing, and length."
      ],
      "metadata": {
        "id": "cUS9nNHQWKgI"
      }
    },
    {
      "cell_type": "markdown",
      "source": [
        "**6. Explain the concept of inheritance in OOP.**\n",
        "\n",
        "**Answer:** Inheritance allows a class to inherit attributes and methods from another class. This helps reuse code and establish relationships between classes."
      ],
      "metadata": {
        "id": "ZyHC9djTWKnw"
      }
    },
    {
      "cell_type": "code",
      "source": [
        "class Animal:\n",
        "    def speak(self):\n",
        "        print(\"Animal speaks\")\n",
        "\n",
        "class Dog(Animal):\n",
        "    def speak(self):\n",
        "        print(\"Bark!\")"
      ],
      "metadata": {
        "id": "ZiXTyrcfhzQ2"
      },
      "execution_count": 162,
      "outputs": []
    },
    {
      "cell_type": "markdown",
      "source": [
        "**7. What is polymorphism in OOP?**\n",
        "\n",
        "**Answer:** Polymorphism allows objects of different classes to be treated as instances of the same class through a common interface."
      ],
      "metadata": {
        "id": "Qm1Sgw_eWKvD"
      }
    },
    {
      "cell_type": "code",
      "source": [
        "class Bird:\n",
        "    def fly(self):\n",
        "        print(\"Bird flies\")\n",
        "\n",
        "class Sparrow(Bird):\n",
        "    def fly(self):\n",
        "        print(\"Sparrow flies\")\n",
        ""
      ],
      "metadata": {
        "id": "ZGGogG9ch7GW"
      },
      "execution_count": 163,
      "outputs": []
    },
    {
      "cell_type": "markdown",
      "source": [
        "**8. How is encapsulation achieved in Python?**\n",
        "\n",
        "**Answer:** By using private variables (prefixing with `_` or `__`) and providing getter and setter methods to control access."
      ],
      "metadata": {
        "id": "HxuXulkkWK2A"
      }
    },
    {
      "cell_type": "code",
      "source": [
        "class Bank:\n",
        "    def __init__(self):\n",
        "        self.__balance = 0\n",
        "    def deposit(self, amount):\n",
        "        self.__balance += amount\n",
        ""
      ],
      "metadata": {
        "id": "bSRbEZSRiJkf"
      },
      "execution_count": 164,
      "outputs": []
    },
    {
      "cell_type": "markdown",
      "source": [
        "**9. What is a constructor in Python?**\n",
        "\n",
        "**Answer:** The `__init__` method in a class is a constructor that initializes object attributes when an object is created."
      ],
      "metadata": {
        "id": "LaY8cmGVWK87"
      }
    },
    {
      "cell_type": "markdown",
      "source": [
        "**10. What are class and static methods in Python?**\n",
        "\n",
        "**Answer:**\n",
        "- `@classmethod`: Takes `cls` as the first argument and can modify class state.\n",
        "\n",
        "- `@staticmethod`: Does not take `self` or `cls`, behaves like a regular function within a class."
      ],
      "metadata": {
        "id": "IfU-iO9yWLE4"
      }
    },
    {
      "cell_type": "markdown",
      "source": [
        "**11. What is method overloading in Python?**\n",
        "\n",
        "**Answer:** Python does not support traditional method overloading. Instead, we use default arguments or `*args`/`**kwargs`"
      ],
      "metadata": {
        "id": "n1vHoLt1WLLa"
      }
    },
    {
      "cell_type": "markdown",
      "source": [
        "**12. What is method overriding in OOP?**\n",
        "\n",
        "**Answer:** Method overriding occurs when a subclass provides a specific implementation of a method already defined in its parent class."
      ],
      "metadata": {
        "id": "BCiD9TLEWLS4"
      }
    },
    {
      "cell_type": "markdown",
      "source": [
        "**13. What is a property decorator in Python?**\n",
        "\n",
        "**Answer:** Property is used to define a method as a property, allowing method access like an attribute."
      ],
      "metadata": {
        "id": "7x5AKgnBWLZa"
      }
    },
    {
      "cell_type": "markdown",
      "source": [
        "**14. Why is polymorphism important in OOP?**\n",
        "\n",
        "**Answer:** Polymorphism increases flexibility and reusability of code, allowing different classes to be treated uniformly."
      ],
      "metadata": {
        "id": "AiCbhFwzWLhC"
      }
    },
    {
      "cell_type": "markdown",
      "source": [
        "**15. What is an abstract class in Python?**\n",
        "\n",
        "**Answer:** An abstract class cannot be instantiated and may have abstract methods. It is defined using the abc module."
      ],
      "metadata": {
        "id": "ECWcXlD-WLoI"
      }
    },
    {
      "cell_type": "markdown",
      "source": [
        "**16. What are the advantages of OOP?**\n",
        "\n",
        "**Answer:**\n",
        "- Reusability through inheritance\n",
        "\n",
        "- Modularity via encapsulation\n",
        "\n",
        "- Flexibility with polymorphism\n",
        "\n",
        "- Maintainability"
      ],
      "metadata": {
        "id": "i3fMD7T9WLvY"
      }
    },
    {
      "cell_type": "markdown",
      "source": [
        "**17. What is the difference between a class variable and an instance variable?**\n",
        "\n",
        "**Answer:**\n",
        "\n",
        "**1. Class Variable**\n",
        "\n",
        "- Shared across all instances of the class.\n",
        "\n",
        "- Defined inside the class but outside any methods.\n",
        "\n",
        "- Changing a class variable affects all instances (unless it's shadowed by an instance variable).\n",
        "\n",
        "**Example:**"
      ],
      "metadata": {
        "id": "N8_XB8V3WL2O"
      }
    },
    {
      "cell_type": "code",
      "source": [
        "class Dog:\n",
        "    species = \"Canine\"  # class variable\n",
        "\n",
        "    def __init__(self, name):\n",
        "        self.name = name  # instance variable\n"
      ],
      "metadata": {
        "id": "U9PYgJtDj2bl"
      },
      "execution_count": 165,
      "outputs": []
    },
    {
      "cell_type": "markdown",
      "source": [
        "**2. Instance Variable**\n",
        "\n",
        "- Unique to each instance of the class.\n",
        "\n",
        "- Usually defined using self inside the __init__ method (or other methods).\n",
        "\n",
        "- Changing an instance variable only affects that specific instance.\n",
        "\n",
        "**Example:**"
      ],
      "metadata": {
        "id": "DiLeaj15j8fE"
      }
    },
    {
      "cell_type": "code",
      "source": [
        "dog1 = Dog(\"Fido\")\n",
        "dog2 = Dog(\"Buddy\")\n",
        "\n",
        "dog1.name = \"Max\"  # only changes dog1's name\n",
        "Dog.species = \"Doggo\"  # changes species for all instances"
      ],
      "metadata": {
        "id": "BhAUxBBokMz0"
      },
      "execution_count": 166,
      "outputs": []
    },
    {
      "cell_type": "markdown",
      "source": [
        "**18. What is multiple inheritance in Python?**\n",
        "\n",
        "**Answer:** Multiple inheritance in Python means a class can inherit attributes and methods from more than one parent class."
      ],
      "metadata": {
        "id": "8u1pW0ubWL9B"
      }
    },
    {
      "cell_type": "code",
      "source": [
        "class A:\n",
        "    def speak(self):\n",
        "        print(\"A speaks\")\n",
        "\n",
        "class B:\n",
        "    def talk(self):\n",
        "        print(\"B talks\")\n",
        "\n",
        "class C(A, B):  # Multiple inheritance\n",
        "    pass\n",
        "\n",
        "obj = C()\n",
        "obj.speak()  # From class A\n",
        "obj.talk()   # From class B"
      ],
      "metadata": {
        "id": "gXtPCbJ0kaJ0",
        "colab": {
          "base_uri": "https://localhost:8080/"
        },
        "outputId": "cbaf6cc7-0e0d-4ec0-8193-fb77f2b88780"
      },
      "execution_count": 167,
      "outputs": [
        {
          "output_type": "stream",
          "name": "stdout",
          "text": [
            "A speaks\n",
            "B talks\n"
          ]
        }
      ]
    },
    {
      "cell_type": "markdown",
      "source": [
        "A speaks\n",
        "B talks\n",
        "Python uses the Method Resolution Order (MRO) to decide which method to use when there’s overlap."
      ],
      "metadata": {
        "id": "sU4_z5sIkiFC"
      }
    },
    {
      "cell_type": "markdown",
      "source": [
        "**19. Explain the purpose of ″_ str _ ′ and ′_ repr _′ ′ methods in Python.**\n",
        "\n",
        "**Answer:**\n",
        "The `__str__` and `__repr__` methods in Python are special methods used to define how an object is represented as a string.\n",
        "\n",
        "▶ `__str__`: User-Friendly String\n",
        "\n",
        "- Called by `str(object)` and the `print()` function.\n",
        "\n",
        "- Should return a **readable, user-friendly** string.\n",
        "\n",
        "- Purpose: Representation for **end users**."
      ],
      "metadata": {
        "id": "Yf9qRFVcWMDZ"
      }
    },
    {
      "cell_type": "code",
      "source": [
        "class Person:\n",
        "    def __init__(self, name):\n",
        "        self.name = name\n",
        "\n",
        "    def __str__(self):\n",
        "        return f\"Person named {self.name}\""
      ],
      "metadata": {
        "id": "8-UNi0jXl7-I"
      },
      "execution_count": 168,
      "outputs": []
    },
    {
      "cell_type": "markdown",
      "source": [
        "▶  `__repr__`: Developer-Friendly String\n",
        "\n",
        "Called by `repr(object)` or when you type the object name in an interactive shell.\n",
        "\n",
        "Should return a **precise, unambiguous** string—ideally valid Python code.\n",
        "\n",
        "Purpose: Debugging and **developer representation**."
      ],
      "metadata": {
        "id": "VnrdTWPMl9kN"
      }
    },
    {
      "cell_type": "code",
      "source": [
        "def __repr__(self):\n",
        "        return f\"Person('{self.name}')\""
      ],
      "metadata": {
        "id": "7iDwJ0n6mYCV"
      },
      "execution_count": 169,
      "outputs": []
    },
    {
      "cell_type": "markdown",
      "source": [
        "**Example in Action:**"
      ],
      "metadata": {
        "id": "An2QTZsjmqTP"
      }
    },
    {
      "cell_type": "code",
      "source": [
        "p = Person(\"Alice\")\n",
        "\n",
        "print(p)         # Calls __str__: Person named Alice\n",
        "print(repr(p))   # Calls __repr__: Person('Alice'"
      ],
      "metadata": {
        "colab": {
          "base_uri": "https://localhost:8080/"
        },
        "id": "n49AYGYh3VVx",
        "outputId": "59aa3a04-3194-473f-b3fd-b3ddc7892a29"
      },
      "execution_count": 170,
      "outputs": [
        {
          "output_type": "stream",
          "name": "stdout",
          "text": [
            "Person named Alice\n",
            "<__main__.Person object at 0x7e19286573d0>\n"
          ]
        }
      ]
    },
    {
      "cell_type": "markdown",
      "source": [
        "**20. What is the significance of the ‘super()’ function in Python?**\n",
        "\n",
        "**Answer:** The `super()` function in Python is used to **call methods from a parent or sibling class**. It's especially important in **inheritance, including multiple inheritance**, to ensure proper method resolution and to avoid redundancy.\n",
        "\n",
        "⚫ **Key Uses of super()**:\n",
        "\n",
        "- **Access parent class methods** without hardcoding the parent class name.\n",
        "\n",
        "- **Maintain the method resolution order (MRO)** in complex inheritance structures.\n",
        "\n",
        "- **Avoid duplicate code** and improve maintainability.\n",
        "\n",
        "**Example:**"
      ],
      "metadata": {
        "id": "n5BFLaJlWMJ4"
      }
    },
    {
      "cell_type": "code",
      "source": [
        "class Parent:\n",
        "    def greet(self):\n",
        "        print(\"Hello from Parent\")\n",
        "\n",
        "class Child(Parent):\n",
        "    def greet(self):\n",
        "        super().greet()  # Calls Parent.greet()\n",
        "        print(\"Hello from Child\")\n",
        "\n",
        "c = Child()\n",
        "c.greet()"
      ],
      "metadata": {
        "colab": {
          "base_uri": "https://localhost:8080/"
        },
        "id": "nYjsiWMtnYE_",
        "outputId": "ed36b55b-5884-4fb9-ea52-0f3e00f04913"
      },
      "execution_count": 171,
      "outputs": [
        {
          "output_type": "stream",
          "name": "stdout",
          "text": [
            "Hello from Parent\n",
            "Hello from Child\n"
          ]
        }
      ]
    },
    {
      "cell_type": "markdown",
      "source": [
        "**21. What is the significance of the _ del _ method in Python?**\n",
        "\n",
        "**Answer:**\n",
        "The `__del__` method in Python is a destructor—it is called when an object is about to be destroyed, typically when there are no more references to it.\n",
        "\n",
        "🔹 Purpose of `__del__`:\n",
        "\n",
        "⏬ Used to perform cleanup actions like:\n",
        "\n",
        "- Closing files\n",
        "\n",
        "- Releasing network connections\n",
        "\n",
        "- Deleting temporary resources\n",
        "\n",
        "It gives you a chance to define custom teardown behavior for your objects.\n",
        "\n",
        "**Example:**"
      ],
      "metadata": {
        "id": "m-05ZPCPWMQh"
      }
    },
    {
      "cell_type": "code",
      "source": [
        "class FileHandler:\n",
        "    def __init__(self, filename):\n",
        "        self.file = open(filename, 'w')\n",
        "\n",
        "    def __del__(self):\n",
        "        print(\"Closing file\")\n",
        "        self.file.close()"
      ],
      "metadata": {
        "id": "saW5-K0moLlk"
      },
      "execution_count": 172,
      "outputs": []
    },
    {
      "cell_type": "markdown",
      "source": [
        "When the object is deleted (or the program ends), `__del__ `is automatically called, closing the file."
      ],
      "metadata": {
        "id": "piRnAVrEoWpc"
      }
    },
    {
      "cell_type": "markdown",
      "source": [
        "**22. What is the difference between @staticmethod and @classmethod in Python?**\n",
        "\n",
        "**Answer:** The difference between `@staticmethod` and `@classmethod` in Python lies in what they receive as the first argument and how they interact with the class.\n",
        "\n",
        "🔹 `@staticmethod`\n",
        "\n",
        "- **Does not take** `self` or `cls` as the first parameter.\n",
        "\n",
        "- Behaves like a **regular function**, just lives inside the class for organization.\n",
        "\n",
        "- **Can't access** or modify class or instance state."
      ],
      "metadata": {
        "id": "zQ1Qnn4eWMWq"
      }
    },
    {
      "cell_type": "code",
      "source": [
        "class MyClass:\n",
        "    @staticmethod\n",
        "    def greet():\n",
        "        print(\"Hello!\")"
      ],
      "metadata": {
        "id": "ZitTX9z3vLOy"
      },
      "execution_count": 173,
      "outputs": []
    },
    {
      "cell_type": "markdown",
      "source": [
        "🔹 `@classmethod`\n",
        "\n",
        "- Takes `cls` (the class itself) as the **first argument**.\n",
        "\n",
        "- Can access and **modify class-level state**.\n",
        "\n",
        "- Often used for **alternative constructors**."
      ],
      "metadata": {
        "id": "zwF67uwpvQPp"
      }
    },
    {
      "cell_type": "code",
      "source": [
        "class MyClass:\n",
        "    count = 0\n",
        "\n",
        "    @classmethod\n",
        "    def increment(cls):\n",
        "        cls.count += 1\n",
        ""
      ],
      "metadata": {
        "id": "F-FpHY_Hvf5r"
      },
      "execution_count": 174,
      "outputs": []
    },
    {
      "cell_type": "markdown",
      "source": [
        "**23. How does polymorphism work in Python with inheritance?**\n",
        "\n",
        "**Answer:**\n",
        "Objects of different classes can be treated as objects of a common base class, especially when they share the same method name, allowing the correct method to be called dynamically at runtime.\n",
        "\n",
        "🔹 **How it works**:\n",
        "\n",
        "- Python uses **dynamic (runtime) method resolution**.\n",
        "\n",
        "- Even if a variable is typed as the base class, Python checks the **actual object type** to decide which method to run.\n",
        "\n",
        "**Example:**"
      ],
      "metadata": {
        "id": "N4Ty15D-WMdP"
      }
    },
    {
      "cell_type": "code",
      "source": [
        "class Animal:\n",
        "    def speak(self):\n",
        "        print(\"Animal speaks\")\n",
        "\n",
        "class Dog(Animal):\n",
        "    def speak(self):\n",
        "        print(\"Dog barks\")\n",
        "\n",
        "class Cat(Animal):\n",
        "    def speak(self):\n",
        "        print(\"Cat meows\")\n",
        "\n",
        "# Polymorphic behavior\n",
        "def make_sound(animal):\n",
        "    animal.speak()\n",
        "\n",
        "make_sound(Dog())\n",
        "make_sound(Cat())\n"
      ],
      "metadata": {
        "colab": {
          "base_uri": "https://localhost:8080/"
        },
        "id": "-QPIRfSDvzgI",
        "outputId": "8a596249-7a7d-4c34-9004-b8ac1d7262fe"
      },
      "execution_count": 175,
      "outputs": [
        {
          "output_type": "stream",
          "name": "stdout",
          "text": [
            "Dog barks\n",
            "Cat meows\n"
          ]
        }
      ]
    },
    {
      "cell_type": "markdown",
      "source": [
        "**24. What is method chaining in Python OOP?**\n",
        "\n",
        "**Answer:**\n",
        "\n",
        "**Method chaining** is a technique where multiple method calls are **linked together in a single statement**, by having each method return `self`.\n",
        "\n",
        "🔹 **How it Works:**\n",
        "\n",
        "Each method performs some action and then returns the **same object** `(self)` so that the next method can be called on it.\n",
        "\n",
        "**Example:**"
      ],
      "metadata": {
        "id": "VhH_agJEWMkQ"
      }
    },
    {
      "cell_type": "code",
      "source": [
        "class TextBuilder:\n",
        "    def __init__(self):\n",
        "        self.text = \"\"\n",
        "\n",
        "    def add_hello(self):\n",
        "        self.text += \"Hello \"\n",
        "        return self\n",
        "\n",
        "    def add_world(self):\n",
        "        self.text += \"World!\"\n",
        "        return self\n",
        "\n",
        "    def show(self):\n",
        "        print(self.text)\n",
        "        return self\n",
        "\n",
        "# Method chaining in action\n",
        "TextBuilder().add_hello().add_world().show()\n"
      ],
      "metadata": {
        "colab": {
          "base_uri": "https://localhost:8080/"
        },
        "id": "TsQqWGZJwVBo",
        "outputId": "7d84b457-e2dc-4d12-82a2-1088d3d22972"
      },
      "execution_count": 176,
      "outputs": [
        {
          "output_type": "stream",
          "name": "stdout",
          "text": [
            "Hello World!\n"
          ]
        },
        {
          "output_type": "execute_result",
          "data": {
            "text/plain": [
              "<__main__.TextBuilder at 0x7e1928652d10>"
            ]
          },
          "metadata": {},
          "execution_count": 176
        }
      ]
    },
    {
      "cell_type": "markdown",
      "source": [
        "**25. What is the purpose of the __ call __ method in Python?**\n",
        "\n",
        "**Answer:**\n",
        "\n",
        "🔹 `__call__` **method in Python**.\n",
        "\n",
        "The` __call__` method lets an **object behave like a function** —meaning you can \"call\" an instance **as if it were a function**.\n",
        "\n",
        "**Purpose:**\n",
        "\n",
        "To allow **instances of a class** to be invoked like functions by defining custom behavior when the object is called using `parentheses ()`.\n",
        "\n",
        "**Example:**"
      ],
      "metadata": {
        "id": "rxkJ4tXnWMqI"
      }
    },
    {
      "cell_type": "code",
      "source": [
        "class Greeter:\n",
        "    def __init__(self, name):\n",
        "        self.name = name\n",
        "\n",
        "    def __call__(self):\n",
        "        print(f\"Hello, {self.name}!\")\n",
        "\n",
        "g = Greeter(\"Alice\")\n",
        "g()\n"
      ],
      "metadata": {
        "colab": {
          "base_uri": "https://localhost:8080/"
        },
        "id": "Zi7XeitNw6lZ",
        "outputId": "689c6d6d-c2f3-467e-bdd6-968f687449eb"
      },
      "execution_count": 177,
      "outputs": [
        {
          "output_type": "stream",
          "name": "stdout",
          "text": [
            "Hello, Alice!\n"
          ]
        }
      ]
    },
    {
      "cell_type": "markdown",
      "source": [
        "\n",
        "\n",
        "---\n",
        "\n",
        "\n",
        "\n",
        "---\n",
        "\n"
      ],
      "metadata": {
        "id": "Zjm0mtaXaLY0"
      }
    },
    {
      "cell_type": "markdown",
      "source": [
        "# **Practical Questions**"
      ],
      "metadata": {
        "id": "aRwncg5hZDtj"
      }
    },
    {
      "cell_type": "markdown",
      "source": [
        "**1. Create a parent class Animal with a method speak() that prints a generic message. Create a child class Dog that overrides the speak() method to print \"Bark!\".**"
      ],
      "metadata": {
        "id": "S128a2csZMRQ"
      }
    },
    {
      "cell_type": "code",
      "source": [
        "class Animal:\n",
        "    def speak(self):\n",
        "        print(\"Animal speaks...\")\n",
        "\n",
        "class Dog(Animal):\n",
        "    def speak(self):\n",
        "        print(\"Bark!\")\n",
        "\n",
        "d = Dog()\n",
        "d.speak()\n"
      ],
      "metadata": {
        "id": "QygrrMljaFwj",
        "colab": {
          "base_uri": "https://localhost:8080/"
        },
        "outputId": "2319c928-abe0-46fc-b4b0-b08ea190b16c"
      },
      "execution_count": 178,
      "outputs": [
        {
          "output_type": "stream",
          "name": "stdout",
          "text": [
            "Bark!\n"
          ]
        }
      ]
    },
    {
      "cell_type": "markdown",
      "source": [
        "**2. Write a program to create an abstract class Shape with a method area(). Derive classes Circle and Rectangle from it and implement the area() method in both.**"
      ],
      "metadata": {
        "id": "UX2uif97aGmD"
      }
    },
    {
      "cell_type": "code",
      "source": [
        "from abc import ABC, abstractmethod\n",
        "\n",
        "class Shape(ABC):\n",
        "    @abstractmethod\n",
        "    def area(self):\n",
        "        pass\n",
        "\n",
        "class Circle(Shape):\n",
        "    def __init__(self, radius):\n",
        "        self.radius = radius\n",
        "\n",
        "    def area(self):\n",
        "        return 3.14 * self.radius * self.radius\n",
        "\n",
        "class Rectangle(Shape):\n",
        "    def __init__(self, width, height):\n",
        "        self.width = width\n",
        "        self.height = height\n",
        "\n",
        "    def area(self):\n",
        "        return self.width * self.height\n",
        "\n",
        "c = Circle(7)\n",
        "r = Rectangle(3, 6)\n",
        "print(c.area())\n",
        "print(r.area())\n"
      ],
      "metadata": {
        "id": "h1EUPdccadQr",
        "colab": {
          "base_uri": "https://localhost:8080/"
        },
        "outputId": "9f5a77ec-5a14-496f-eb21-396f140dbca9"
      },
      "execution_count": 179,
      "outputs": [
        {
          "output_type": "stream",
          "name": "stdout",
          "text": [
            "153.86\n",
            "18\n"
          ]
        }
      ]
    },
    {
      "cell_type": "markdown",
      "source": [
        "**3. Implement a multi-level inheritance scenario where a class Vehicle has an attribute type. Derive a class Car and further derive a class ElectricCar that adds a battery attribute.**"
      ],
      "metadata": {
        "id": "BvsWsuBSaGsS"
      }
    },
    {
      "cell_type": "code",
      "source": [
        "class Vehicle:\n",
        "    def __init__(self, type):\n",
        "        self.type = type\n",
        "\n",
        "class Car(Vehicle):\n",
        "    def __init__(self, type, brand):\n",
        "        super().__init__(type)\n",
        "        self.brand = brand\n",
        "\n",
        "class ElectricCar(Car):\n",
        "    def __init__(self, type, brand, battery):\n",
        "        super().__init__(type, brand)\n",
        "        self.battery = battery\n",
        "\n",
        "e_car = ElectricCar(\"EV\", \"TATA\", \"100 kWh\")\n",
        "print(e_car.type, e_car.brand, e_car.battery)\n"
      ],
      "metadata": {
        "id": "tkslyR9tan2E",
        "colab": {
          "base_uri": "https://localhost:8080/"
        },
        "outputId": "79c06016-cba3-47c9-b0ad-37be7dd18398"
      },
      "execution_count": 180,
      "outputs": [
        {
          "output_type": "stream",
          "name": "stdout",
          "text": [
            "EV TATA 100 kWh\n"
          ]
        }
      ]
    },
    {
      "cell_type": "markdown",
      "source": [
        "**4. Demonstrate polymorphism by creating a base class Bird with a method fly(). Create two derived classes Sparrow and Penguin that override the fly() method.**"
      ],
      "metadata": {
        "id": "0cCaefzyaGxi"
      }
    },
    {
      "cell_type": "code",
      "source": [
        "class Bird:\n",
        "    def fly(self):\n",
        "        print(\"Bird is flying\")\n",
        "\n",
        "class Sparrow(Bird):\n",
        "    def fly(self):\n",
        "        print(\"Sparrow flies high\")\n",
        "\n",
        "class Penguin(Bird):\n",
        "    def fly(self):\n",
        "        print(\"Penguins can't fly\")\n",
        "\n",
        "for bird in [Sparrow(), Penguin()]:\n",
        "    bird.fly()\n",
        ""
      ],
      "metadata": {
        "id": "zDrwelc6avJE",
        "colab": {
          "base_uri": "https://localhost:8080/"
        },
        "outputId": "4f61c01c-5874-4d3f-e53d-50bb1d28fecc"
      },
      "execution_count": 181,
      "outputs": [
        {
          "output_type": "stream",
          "name": "stdout",
          "text": [
            "Sparrow flies high\n",
            "Penguins can't fly\n"
          ]
        }
      ]
    },
    {
      "cell_type": "markdown",
      "source": [
        "**5. Write a program to demonstrate encapsulation by creating a class BankAccount with private attributes balance and methods to deposit, withdraw, and check balance.**"
      ],
      "metadata": {
        "id": "wphUXVJyaG2f"
      }
    },
    {
      "cell_type": "code",
      "source": [
        "class BankAccount:\n",
        "    def __init__(self):\n",
        "        self.__balance = 0\n",
        "\n",
        "    def deposit(self, amount):\n",
        "        self.__balance += amount\n",
        "\n",
        "    def withdraw(self, amount):\n",
        "        if amount <= self.__balance:\n",
        "            self.__balance -= amount\n",
        "        else:\n",
        "            print(\"Insufficient balance\")\n",
        "\n",
        "    def get_balance(self):\n",
        "        return self.__balance\n",
        "\n",
        "acc = BankAccount()\n",
        "acc.deposit(15000)\n",
        "acc.withdraw(6000)\n",
        "print(acc.get_balance())\n"
      ],
      "metadata": {
        "id": "c_kFKkm_a0pk",
        "colab": {
          "base_uri": "https://localhost:8080/"
        },
        "outputId": "951e5e99-7387-4e79-a02f-4f95558c8061"
      },
      "execution_count": 182,
      "outputs": [
        {
          "output_type": "stream",
          "name": "stdout",
          "text": [
            "9000\n"
          ]
        }
      ]
    },
    {
      "cell_type": "markdown",
      "source": [
        "**6. Demonstrate runtime polymorphism using a method play() in a base class Instrument. Derive classes Guitar and Piano that implement their own version of play().**"
      ],
      "metadata": {
        "id": "3TomzYvFaG7b"
      }
    },
    {
      "cell_type": "code",
      "source": [
        "class Instrument:\n",
        "    def play(self):\n",
        "        print(\"Instrument is playing\")\n",
        "\n",
        "class Guitar(Instrument):\n",
        "    def play(self):\n",
        "        print(\"Guitar is playing\")\n",
        "\n",
        "class Piano(Instrument):\n",
        "    def play(self):\n",
        "        print(\"Piano is playing\")\n",
        "\n",
        "for inst in [Guitar(), Piano()]:\n",
        "    inst.play()\n",
        ""
      ],
      "metadata": {
        "id": "lb8M6YPYa5yM",
        "colab": {
          "base_uri": "https://localhost:8080/"
        },
        "outputId": "d05fbcd1-640e-4476-c99a-ea285ad5efab"
      },
      "execution_count": 183,
      "outputs": [
        {
          "output_type": "stream",
          "name": "stdout",
          "text": [
            "Guitar is playing\n",
            "Piano is playing\n"
          ]
        }
      ]
    },
    {
      "cell_type": "markdown",
      "source": [
        "**7. Create a class MathOperations with a class method add_numbers() to add two numbers and a static method subtract_numbers() to subtract two numbers.**"
      ],
      "metadata": {
        "id": "-iXVdaTBaG_b"
      }
    },
    {
      "cell_type": "code",
      "source": [
        "class MathOperations:\n",
        "    @classmethod\n",
        "    def add_numbers(cls, a, b):\n",
        "        return a + b\n",
        "\n",
        "    @staticmethod\n",
        "    def subtract_numbers(a, b):\n",
        "        return a - b\n",
        "\n",
        "print(MathOperations.add_numbers(10, 5))\n",
        "print(MathOperations.subtract_numbers(10, 5))\n"
      ],
      "metadata": {
        "id": "Jzb8ncAKa_eM",
        "colab": {
          "base_uri": "https://localhost:8080/"
        },
        "outputId": "3a4d2fc4-bf60-4bfe-981a-09e75f2eb85d"
      },
      "execution_count": 184,
      "outputs": [
        {
          "output_type": "stream",
          "name": "stdout",
          "text": [
            "15\n",
            "5\n"
          ]
        }
      ]
    },
    {
      "cell_type": "markdown",
      "source": [
        "**8. Implement a class Person with a class method to count the total number of persons created.**"
      ],
      "metadata": {
        "id": "sKfn0mhha_qt"
      }
    },
    {
      "cell_type": "code",
      "source": [
        "class Person:\n",
        "    count = 0\n",
        "\n",
        "    def __init__(self):\n",
        "        Person.count += 1\n",
        "\n",
        "    @classmethod\n",
        "    def total_persons(cls):\n",
        "        return cls.count\n",
        "\n",
        "p1 = Person()\n",
        "p2 = Person()\n",
        "print(Person.total_persons())\n"
      ],
      "metadata": {
        "id": "B94gG4UFbDod",
        "colab": {
          "base_uri": "https://localhost:8080/"
        },
        "outputId": "72c973f2-b651-445d-cffc-fa5c978ba973"
      },
      "execution_count": 185,
      "outputs": [
        {
          "output_type": "stream",
          "name": "stdout",
          "text": [
            "2\n"
          ]
        }
      ]
    },
    {
      "cell_type": "markdown",
      "source": [
        "**9. Write a class Fraction with attributes numerator and denominator. Override the str method to display the fraction as \"numerator/denominator\".**"
      ],
      "metadata": {
        "id": "t_IyLWqpbDyg"
      }
    },
    {
      "cell_type": "code",
      "source": [
        "class Fraction:\n",
        "    def __init__(self, numerator, denominator):\n",
        "        self.numerator = numerator\n",
        "        self.denominator = denominator\n",
        "\n",
        "    def __str__(self):\n",
        "        return f\"{self.numerator}/{self.denominator}\"\n",
        "\n",
        "f = Fraction(3, 4)\n",
        "print(f)\n"
      ],
      "metadata": {
        "id": "2OuIsSpEbIF-",
        "colab": {
          "base_uri": "https://localhost:8080/"
        },
        "outputId": "60ac4e2c-4971-403c-e965-d5b7c5d5b9f3"
      },
      "execution_count": 186,
      "outputs": [
        {
          "output_type": "stream",
          "name": "stdout",
          "text": [
            "3/4\n"
          ]
        }
      ]
    },
    {
      "cell_type": "markdown",
      "source": [
        "**10. Demonstrate operator overloading by creating a class Vector and overriding the add method to add two Vctors.**"
      ],
      "metadata": {
        "id": "opdDkFQDbIL1"
      }
    },
    {
      "cell_type": "code",
      "source": [
        "class Vector:\n",
        "    def __init__(self, x, y):\n",
        "        self.x = x\n",
        "        self.y = y\n",
        "\n",
        "    def __add__(self, other):\n",
        "        return Vector(self.x + other.x, self.y + other.y)\n",
        "\n",
        "    def __str__(self):\n",
        "        return f\"({self.x}, {self.y})\"\n",
        "\n",
        "v1 = Vector(1, 2)\n",
        "v2 = Vector(3, 4)\n",
        "print(v1 + v2)\n"
      ],
      "metadata": {
        "id": "PY0pBrZcbLz1",
        "colab": {
          "base_uri": "https://localhost:8080/"
        },
        "outputId": "e4893b07-a656-4fd2-a211-462f52e43fe9"
      },
      "execution_count": 187,
      "outputs": [
        {
          "output_type": "stream",
          "name": "stdout",
          "text": [
            "(4, 6)\n"
          ]
        }
      ]
    },
    {
      "cell_type": "markdown",
      "source": [
        "**11. Create a class Person with attributes name and age. Add a method greet() that prints \"Hello, my name is {name} and I am {age} years old.\"**"
      ],
      "metadata": {
        "id": "T1biffGvbL4y"
      }
    },
    {
      "cell_type": "code",
      "source": [
        "class Person:\n",
        "    def __init__(self, name, age):\n",
        "        self.name = name\n",
        "        self.age = age\n",
        "\n",
        "    def greet(self):\n",
        "        print(f\"Hello, my name is {self.name} and I am {self.age} years old.\")\n",
        "\n",
        "p = Person(\"Soumyadip\", 25)\n",
        "p.greet()\n"
      ],
      "metadata": {
        "id": "_82foKNybPP-",
        "colab": {
          "base_uri": "https://localhost:8080/"
        },
        "outputId": "ebdae022-4633-40c9-be2e-2fcd5343293e"
      },
      "execution_count": 188,
      "outputs": [
        {
          "output_type": "stream",
          "name": "stdout",
          "text": [
            "Hello, my name is Soumyadip and I am 25 years old.\n"
          ]
        }
      ]
    },
    {
      "cell_type": "markdown",
      "source": [
        "**12. Implement a class Student with attributes name and grades. Create a method average_grade() to compute the average of the grades.**"
      ],
      "metadata": {
        "id": "5N9x6psdbPUu"
      }
    },
    {
      "cell_type": "code",
      "source": [
        "class Student:\n",
        "    def __init__(self, name, grades):\n",
        "        self.name = name\n",
        "        self.grades = grades\n",
        "\n",
        "    def average_grade(self):\n",
        "        return sum(self.grades) / len(self.grades)\n",
        "\n",
        "s = Student(\"Bob\", [85, 72, 89])\n",
        "print(s.average_grade())\n"
      ],
      "metadata": {
        "id": "LNlAmR3jbTY9",
        "colab": {
          "base_uri": "https://localhost:8080/"
        },
        "outputId": "bbbe5c79-3198-4391-dfa7-d55dccd1d636"
      },
      "execution_count": 189,
      "outputs": [
        {
          "output_type": "stream",
          "name": "stdout",
          "text": [
            "82.0\n"
          ]
        }
      ]
    },
    {
      "cell_type": "markdown",
      "source": [
        "**13. Create a class Rectangle with methods set_dimensions() to set the dimensions and area() to calculate the area.**"
      ],
      "metadata": {
        "id": "Fm6oWVH2bTc7"
      }
    },
    {
      "cell_type": "code",
      "source": [
        "class Rectangle:\n",
        "    def set_dimensions(self, width, height):\n",
        "        self.width = width\n",
        "        self.height = height\n",
        "\n",
        "    def area(self):\n",
        "        return self.width * self.height\n",
        "\n",
        "r = Rectangle()\n",
        "r.set_dimensions(7, 4)\n",
        "print(r.area())\n"
      ],
      "metadata": {
        "id": "idZLTwBabXtM",
        "colab": {
          "base_uri": "https://localhost:8080/"
        },
        "outputId": "02fc7ae2-cec6-4fb6-8864-179edc3d8570"
      },
      "execution_count": 190,
      "outputs": [
        {
          "output_type": "stream",
          "name": "stdout",
          "text": [
            "28\n"
          ]
        }
      ]
    },
    {
      "cell_type": "markdown",
      "source": [
        "**14. Create a class Employee with a method calculate_salary() that computes the salary based on hours worked and hourly rate. Create a derived class Manager that adds a bonus to the salary.**"
      ],
      "metadata": {
        "id": "64XdWiEUbXyW"
      }
    },
    {
      "cell_type": "code",
      "source": [
        "class Employee:\n",
        "    def calculate_salary(self, hours, rate):\n",
        "        return hours * rate\n",
        "\n",
        "class Manager(Employee):\n",
        "    def calculate_salary(self, hours, rate, bonus):\n",
        "        base = super().calculate_salary(hours, rate)\n",
        "        return base + bonus\n",
        "\n",
        "m = Manager()\n",
        "print(m.calculate_salary(40, 500, 1000))\n"
      ],
      "metadata": {
        "id": "F5NUmSN2ba7t",
        "colab": {
          "base_uri": "https://localhost:8080/"
        },
        "outputId": "49749991-88eb-4ad1-d1fb-587f7b30da29"
      },
      "execution_count": 191,
      "outputs": [
        {
          "output_type": "stream",
          "name": "stdout",
          "text": [
            "21000\n"
          ]
        }
      ]
    },
    {
      "cell_type": "markdown",
      "source": [
        "**15. Create a class Product with attributes name, price, and quantity. Implement a method total_price() that calculates the total price of the product.**"
      ],
      "metadata": {
        "id": "fNCtxe_TbbAM"
      }
    },
    {
      "cell_type": "code",
      "source": [
        "class Product:\n",
        "    def __init__(self, name, price, quantity):\n",
        "        self.name = name\n",
        "        self.price = price\n",
        "        self.quantity = quantity\n",
        "\n",
        "    def total_price(self):\n",
        "        return self.price * self.quantity\n",
        "\n",
        "p = Product(\"Pen\", 15, 50)\n",
        "print(p.total_price())\n"
      ],
      "metadata": {
        "id": "YEbGYvOpbeW-",
        "colab": {
          "base_uri": "https://localhost:8080/"
        },
        "outputId": "641f1e07-037a-426a-a154-ec768a1bb483"
      },
      "execution_count": 192,
      "outputs": [
        {
          "output_type": "stream",
          "name": "stdout",
          "text": [
            "750\n"
          ]
        }
      ]
    },
    {
      "cell_type": "markdown",
      "source": [
        "**16. Create a class Animal with an abstract method sound(). Create two derived classes Cow and Sheep that implement the sound() method.**"
      ],
      "metadata": {
        "id": "ENepTlR0bebF"
      }
    },
    {
      "cell_type": "code",
      "source": [
        "from abc import ABC, abstractmethod\n",
        "\n",
        "class Animal(ABC):\n",
        "    @abstractmethod\n",
        "    def sound(self):\n",
        "        pass\n",
        "\n",
        "class Cow(Animal):\n",
        "    def sound(self):\n",
        "        print(\"Moo\")\n",
        "\n",
        "class Sheep(Animal):\n",
        "    def sound(self):\n",
        "        print(\"Bleat\")\n",
        "\n",
        "Cow().sound()\n",
        "Sheep().sound()\n"
      ],
      "metadata": {
        "id": "bSIW4nm8biv2",
        "colab": {
          "base_uri": "https://localhost:8080/"
        },
        "outputId": "891a3052-9c49-4aea-d539-e2f2b1e7d8fe"
      },
      "execution_count": 193,
      "outputs": [
        {
          "output_type": "stream",
          "name": "stdout",
          "text": [
            "Moo\n",
            "Bleat\n"
          ]
        }
      ]
    },
    {
      "cell_type": "markdown",
      "source": [
        "**17. Create a class Book with attributes title, author, and year_published. Add a method get_book_info() that returns a formatted string with the book's details.**"
      ],
      "metadata": {
        "id": "htmRe_9cbi0E"
      }
    },
    {
      "cell_type": "code",
      "source": [
        "class Book:\n",
        "    def __init__(self, title, author, year_published):\n",
        "        self.title = title\n",
        "        self.author = author\n",
        "        self.year_published = year_published\n",
        "\n",
        "    def get_book_info(self):\n",
        "        return f\"{self.title} by {self.author}, published in {self.year_published}\"\n",
        "\n",
        "b = Book(\"1979\", \"Norman Lewis\", 1949)\n",
        "print(b.get_book_info())\n"
      ],
      "metadata": {
        "id": "ACsPRdapbmb4",
        "colab": {
          "base_uri": "https://localhost:8080/"
        },
        "outputId": "7f01eae6-f998-459f-a9fd-7a25f442bc68"
      },
      "execution_count": 194,
      "outputs": [
        {
          "output_type": "stream",
          "name": "stdout",
          "text": [
            "1979 by Norman Lewis, published in 1949\n"
          ]
        }
      ]
    },
    {
      "cell_type": "markdown",
      "source": [
        "**18. Create a class House with attributes address and price. Create a derived class Mansion that adds an attribute number_of_rooms.**"
      ],
      "metadata": {
        "id": "kLPvfc8NbmgV"
      }
    },
    {
      "cell_type": "code",
      "source": [
        "class House:\n",
        "    def __init__(self, address, price):\n",
        "        self.address = address\n",
        "        self.price = price\n",
        "\n",
        "class Mansion(House):\n",
        "    def __init__(self, address, price, number_of_rooms):\n",
        "        super().__init__(address, price)\n",
        "        self.number_of_rooms = number_of_rooms\n",
        "\n",
        "m = Mansion(\"12/C, Salt Lake, Sector- V, Kolkata\", 10000000, 5)\n",
        "print(m.address, m.price, m.number_of_rooms)\n"
      ],
      "metadata": {
        "id": "hqcG96lCbq62",
        "colab": {
          "base_uri": "https://localhost:8080/"
        },
        "outputId": "25d78f45-4c10-4320-b5fd-802b203385d6"
      },
      "execution_count": 195,
      "outputs": [
        {
          "output_type": "stream",
          "name": "stdout",
          "text": [
            "12/C, Salt Lake, Sector- V, Kolkata 10000000 5\n"
          ]
        }
      ]
    },
    {
      "cell_type": "markdown",
      "source": [
        "\n",
        "\n",
        "---\n",
        "\n",
        "\n",
        "\n",
        "---\n",
        "\n"
      ],
      "metadata": {
        "id": "bg1tvdgH2g95"
      }
    }
  ]
}