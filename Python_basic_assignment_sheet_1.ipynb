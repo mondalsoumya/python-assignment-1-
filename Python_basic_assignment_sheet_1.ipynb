{
  "nbformat": 4,
  "nbformat_minor": 0,
  "metadata": {
    "colab": {
      "provenance": []
    },
    "kernelspec": {
      "name": "python3",
      "display_name": "Python 3"
    },
    "language_info": {
      "name": "python"
    }
  },
  "cells": [
    {
      "cell_type": "markdown",
      "source": [
        "# **#Python Basic Assignment 1**\n"
      ],
      "metadata": {
        "id": "j_pOM05niWRg"
      }
    },
    {
      "cell_type": "markdown",
      "source": [
        "# Python Basic Theoretical Questions"
      ],
      "metadata": {
        "id": "BGqOmxjwlajZ"
      }
    },
    {
      "cell_type": "markdown",
      "source": [
        "**1. What is Python, and why is it popular?**\n",
        "\n",
        "**Ans.** Python is a high- level, interperted programming language known for its readability and simplicity. It is popular because od its extensive libraries, ease of learing, versatility, and community support. It's widely used in web development, data science, AI, machine learning, and automation."
      ],
      "metadata": {
        "id": "n6UOlgMajIkS"
      }
    },
    {
      "cell_type": "markdown",
      "source": [
        "**2. What is an interpreter in python ?**\n",
        "\n",
        "**Ans.** Pre-defined keywords are reserved words in python that have special meaning, such as if, else, for, while, def, and return. They cannot be used as variable names."
      ],
      "metadata": {
        "id": "c9838RXBlZmI"
      }
    },
    {
      "cell_type": "markdown",
      "source": [
        "**3. What are pre-defined keywords in python ?**\n",
        "\n",
        "**Ans.** In Python, pre-defined keywords are words that have special meaning in the language. Such as if, else, elif, for, while, def, return etc. These words are reserved for specific syntactic purposes and cannot be used as identifiers."
      ],
      "metadata": {
        "id": "bX6GVRxjk9kg"
      }
    },
    {
      "cell_type": "markdown",
      "source": [
        "**4. Can keywords be used as variable names ??**\n",
        "\n",
        "**Ans.** No, keywords cannot be used as variable names. Because keywords have special meaning in the Python language."
      ],
      "metadata": {
        "id": "wt1tf2o3m6Na"
      }
    },
    {
      "cell_type": "markdown",
      "source": [
        "**5. What is mutability in Python ?**\n",
        "\n",
        "**Ans.** Mutability in Python refers to whether an object can be changed after it is created. Mutable objects include lists and dictionaries, whereas immutable objects include tuples and strings."
      ],
      "metadata": {
        "id": "4TbOerFvoKty"
      }
    },
    {
      "cell_type": "markdown",
      "source": [
        "**6. Why are lists mutable, but tuples are immutables ?**\n",
        "\n",
        "**Ans.** Changes like adding, deleting, or altering elements are possible with lists. To maintain data integrity and improve efficiency, tuples are intentionally immutable."
      ],
      "metadata": {
        "id": "0AumR-ZKoP-f"
      }
    },
    {
      "cell_type": "markdown",
      "source": [
        "**7. What is the difference between \"==\" and \"is\" operators in Python ?**\n",
        "\n",
        "**Ans.** \"==\"  Equality Operator Checks whether two values are equal and \"is\" Checks whether two variables point to the same object in memory.\n"
      ],
      "metadata": {
        "id": "tExSkvY_oVtO"
      }
    },
    {
      "cell_type": "markdown",
      "source": [
        "**8. What are logical operators in Python ?**\n",
        "\n",
        "**Ans.** Logical operators are used to combine multiple conditions and work with Boolean expressions- and, or, not.\n",
        "\n",
        "*   and: Both conditions must be true.\n",
        "*   or: At least one condition must be true.\n",
        "*   not: Negates a condition.\n"
      ],
      "metadata": {
        "id": "E6jy6kwYoV42"
      }
    },
    {
      "cell_type": "markdown",
      "source": [
        "**9. What is type casting in Python ?**\n",
        "\n",
        "**Ans.** Type casting means converting the data type of a variable from one type to another — like from \"int\" to \"float\", or \"str\" to \"int\"."
      ],
      "metadata": {
        "id": "SBRK19vIrLhF"
      }
    },
    {
      "cell_type": "markdown",
      "source": [
        "**10. What is the difference between implict and explicit type casting ?**\n",
        "\n",
        "**Ans.**\n",
        "\n",
        "*   Implicit casting is done automatically by Python ( e.g., int to float ).\n",
        "*   Explict casting is done manually by the programmer using functions like \"int()\", \"float()\", \"str()\".\n"
      ],
      "metadata": {
        "id": "8O1wBpTurMqr"
      }
    },
    {
      "cell_type": "markdown",
      "source": [
        "**11. What is the purpose of conditional statements in Python ?**\n",
        "\n",
        "**Ans.** Conditional statements allow the program to make decisions and execute certain parts of code based on given conditions using \"if\", \"elif\", and \"else\"."
      ],
      "metadata": {
        "id": "ft59NCSMrM0N"
      }
    },
    {
      "cell_type": "markdown",
      "source": [
        "**12. How does the elif statement work ?**\n",
        "\n",
        "**Ans.** The \"elif\" ( else if ) statement allows checking multiple expressions for \"True\" after an initial \"if\" check. It executes the block of code for the first condition that evaluates to \"True\".\n"
      ],
      "metadata": {
        "id": "nONj7vdGrM-v"
      }
    },
    {
      "cell_type": "code",
      "source": [
        "age = 27 #Sample age value\n",
        "\n",
        "if age < 18:\n",
        "    print(\"You are a minor.\")\n",
        "elif age >= 18 and age < 65:\n",
        "    print(\"You are an adult.\")\n",
        "else:\n",
        "    print(\"You are a senior citizen.\")"
      ],
      "metadata": {
        "colab": {
          "base_uri": "https://localhost:8080/"
        },
        "id": "Nz7Jdl8QdEKY",
        "outputId": "30e6c54c-cee0-4d8b-f8d6-4aaf8f11a1c0"
      },
      "execution_count": 6,
      "outputs": [
        {
          "output_type": "stream",
          "name": "stdout",
          "text": [
            "You are an adult.\n"
          ]
        }
      ]
    },
    {
      "cell_type": "markdown",
      "source": [
        "**13. What is the difference between for and while loops ?**\n",
        "\n",
        "**Ans.**\n",
        "\n",
        "*   \"for\" loops are used for iterating over sequences ( like lists, strings, etc. )\n",
        "*  \"While\" loops are used when the number of iterations is not known beforehand and depends on a condition.\n",
        "\n",
        "\n"
      ],
      "metadata": {
        "id": "34u9xRLXrNJY"
      }
    },
    {
      "cell_type": "markdown",
      "source": [
        "**14. Describe a scenario where a while loop is more suitable than a for loop.**\n",
        "\n",
        "**Ans.** A \"while\" loop is better when reading user input until they enter a specific value ( e.g., \"exit\" ) since the number of iterations is unknown.\n",
        "\n"
      ],
      "metadata": {
        "id": "1X_rJ5rwrNft"
      }
    },
    {
      "cell_type": "markdown",
      "source": [
        "\n",
        "# Python Basic Practical Questions\n",
        "\n",
        "  "
      ],
      "metadata": {
        "id": "F-cJYfy8oWM_"
      }
    },
    {
      "cell_type": "markdown",
      "source": [
        "**1. Write a Python program to print \"Hello, World!\"**"
      ],
      "metadata": {
        "id": "IKLF_LcTo-PT"
      }
    },
    {
      "cell_type": "code",
      "source": [
        "print(\"Hello, World!\")"
      ],
      "metadata": {
        "colab": {
          "base_uri": "https://localhost:8080/"
        },
        "id": "zRdggImxpPL5",
        "outputId": "d51ed541-54a2-43e1-8fab-9b7dbd9a3f8d"
      },
      "execution_count": null,
      "outputs": [
        {
          "output_type": "stream",
          "name": "stdout",
          "text": [
            "Hello, World!\n"
          ]
        }
      ]
    },
    {
      "cell_type": "markdown",
      "source": [
        "**2. Write a Python program that displays your name and age.**"
      ],
      "metadata": {
        "id": "a-Yc6LASpcMC"
      }
    },
    {
      "cell_type": "markdown",
      "source": [
        "Method 1"
      ],
      "metadata": {
        "id": "mS4VPZ8E9VcT"
      }
    },
    {
      "cell_type": "code",
      "source": [
        "name=(\"Soumyadip Mondal\")\n",
        "age=(\"27\")\n",
        "\n",
        "print(f\"Name: {name}\\nAge: {age}\")"
      ],
      "metadata": {
        "colab": {
          "base_uri": "https://localhost:8080/"
        },
        "id": "U3BIEwVdgkbS",
        "outputId": "171e8abf-2fa1-4265-b5d7-81182d7ab9f3"
      },
      "execution_count": 7,
      "outputs": [
        {
          "output_type": "stream",
          "name": "stdout",
          "text": [
            "Name: Soumyadip Mondal\n",
            "Age: 27\n"
          ]
        }
      ]
    },
    {
      "cell_type": "markdown",
      "source": [
        "Method 2"
      ],
      "metadata": {
        "id": "YL0Ls9xF9iGJ"
      }
    },
    {
      "cell_type": "code",
      "source": [
        "name=(\"Soumyadip Mondal\")\n",
        "age=(\"27\")\n",
        "\n",
        "print(\"Name:\", name)\n",
        "print(\"Age:\", age)"
      ],
      "metadata": {
        "colab": {
          "base_uri": "https://localhost:8080/"
        },
        "id": "a49PtEefpUKG",
        "outputId": "86aaccf2-6a6e-4cf8-8d7f-083ba60a508c"
      },
      "execution_count": null,
      "outputs": [
        {
          "output_type": "stream",
          "name": "stdout",
          "text": [
            "Name: Soumyadip Mondal\n",
            "Age: 27\n"
          ]
        }
      ]
    },
    {
      "cell_type": "markdown",
      "source": [
        "**3. Write code to print all the pre-defined keywords in Python using the keyword library.**"
      ],
      "metadata": {
        "id": "tsw9K5nUvDQW"
      }
    },
    {
      "cell_type": "code",
      "source": [
        "import keyword\n",
        "print(keyword.kwlist)"
      ],
      "metadata": {
        "id": "tji-jNa5qSLI",
        "colab": {
          "base_uri": "https://localhost:8080/"
        },
        "outputId": "1f752ef7-ae3c-4ac7-840a-647f26d5f937"
      },
      "execution_count": null,
      "outputs": [
        {
          "output_type": "stream",
          "name": "stdout",
          "text": [
            "['False', 'None', 'True', 'and', 'as', 'assert', 'async', 'await', 'break', 'class', 'continue', 'def', 'del', 'elif', 'else', 'except', 'finally', 'for', 'from', 'global', 'if', 'import', 'in', 'is', 'lambda', 'nonlocal', 'not', 'or', 'pass', 'raise', 'return', 'try', 'while', 'with', 'yield']\n"
          ]
        }
      ]
    },
    {
      "cell_type": "markdown",
      "source": [
        "**4. Write a program that checks if a given word is a Python keyword.**"
      ],
      "metadata": {
        "id": "Ek-3dP7tvTNe"
      }
    },
    {
      "cell_type": "code",
      "source": [
        "import keyword\n",
        "word = input(\"Enter a word: \")\n",
        "print(\"Is keyword:\", keyword.iskeyword(word))"
      ],
      "metadata": {
        "colab": {
          "base_uri": "https://localhost:8080/"
        },
        "id": "wkg01xGivcX9",
        "outputId": "1cb58297-3790-44f1-b796-62eb5aac5fbf"
      },
      "execution_count": null,
      "outputs": [
        {
          "output_type": "stream",
          "name": "stdout",
          "text": [
            "Enter a word: hello world\n",
            "Is keyword: False\n"
          ]
        }
      ]
    },
    {
      "cell_type": "markdown",
      "source": [
        "**5. Create a list and tuple in Python, and demonstrate how attempting to change an element works differently for each.**"
      ],
      "metadata": {
        "id": "zqYxhssOvhqY"
      }
    },
    {
      "cell_type": "code",
      "source": [
        "# list (mutable)\n",
        "my_list =[10,20,30]\n",
        "my_list[0]=100\n",
        "print(\"Modified List:\", my_list)\n",
        "\n",
        "\n",
        "# tuple (immutable)\n",
        "my_tuple=(10,20,30)\n",
        "try:\n",
        "    my_tuple[0]=100\n",
        "except TypeError:\n",
        "    print(\"Cann't Modify tuple\")"
      ],
      "metadata": {
        "id": "ZcSvcGWlvyPg",
        "colab": {
          "base_uri": "https://localhost:8080/"
        },
        "outputId": "9f312c60-f4b7-49d3-a61c-7cdfb07c26f0"
      },
      "execution_count": 14,
      "outputs": [
        {
          "output_type": "stream",
          "name": "stdout",
          "text": [
            "Modified List: [100, 20, 30]\n",
            "Cann't Modify tuple\n"
          ]
        }
      ]
    },
    {
      "cell_type": "markdown",
      "source": [
        "**6. Write a function to demonstrate the behavior of mutable and immutable arguments.**"
      ],
      "metadata": {
        "id": "8K9tMH96v0Gw"
      }
    },
    {
      "cell_type": "code",
      "source": [
        "def modify_list(lst):\n",
        "    lst.append(100)\n",
        "\n",
        "def modify_number(num):\n",
        "    num += 10\n",
        "\n",
        "my_list = [1, 2, 3]\n",
        "my_num = 5\n",
        "\n",
        "modify_list(my_list)\n",
        "modify_number(my_num)\n",
        "\n",
        "print(\"List:\", my_list)  # List modified\n",
        "print(\"Number:\", my_num)  # Number not modified\n"
      ],
      "metadata": {
        "id": "CDnXEsnOv_eh",
        "colab": {
          "base_uri": "https://localhost:8080/"
        },
        "outputId": "dbcee72c-398e-4747-e2d6-9bece3fd45ef"
      },
      "execution_count": 15,
      "outputs": [
        {
          "output_type": "stream",
          "name": "stdout",
          "text": [
            "List: [1, 2, 3, 100]\n",
            "Number: 5\n"
          ]
        }
      ]
    },
    {
      "cell_type": "markdown",
      "source": [
        "**7. Write a program that performs basic arithmetic operations on two user-input numbers.**"
      ],
      "metadata": {
        "id": "6NRihN1EwApg"
      }
    },
    {
      "cell_type": "code",
      "source": [
        "a= int(input(\"Enter first number: \"))\n",
        "b= int(input(\"Enter second number:\"))\n",
        "\n",
        "print(\"addition:\", a+b)\n",
        "print(\"subtraction:\", a-b)\n",
        "print(\"multiplication:\", a*b)\n",
        "print(\"division:\", a/b)"
      ],
      "metadata": {
        "id": "ybN-1YAowK_B",
        "colab": {
          "base_uri": "https://localhost:8080/"
        },
        "outputId": "41124cc2-45ac-4d15-b559-91a0e2e41e49"
      },
      "execution_count": 16,
      "outputs": [
        {
          "output_type": "stream",
          "name": "stdout",
          "text": [
            "Enter first number: 20\n",
            "Enter second number:5\n",
            "addition: 25\n",
            "subtraction: 15\n",
            "multiplication: 100\n",
            "division: 4.0\n"
          ]
        }
      ]
    },
    {
      "cell_type": "markdown",
      "source": [
        "**8. Write a program to demonstrate the use of logical operators.**"
      ],
      "metadata": {
        "id": "6BCxZU8twLa3"
      }
    },
    {
      "cell_type": "code",
      "source": [
        "a=12\n",
        "b=5\n",
        "\n",
        "print(a > 5 and b < 12)\n",
        "print(a >12 or b > 5)\n",
        "print(not a > 2)"
      ],
      "metadata": {
        "id": "mQhOW6UXwUJq",
        "colab": {
          "base_uri": "https://localhost:8080/"
        },
        "outputId": "47a26a03-87c3-4d05-ab45-390018ae5236"
      },
      "execution_count": 21,
      "outputs": [
        {
          "output_type": "stream",
          "name": "stdout",
          "text": [
            "True\n",
            "False\n",
            "False\n"
          ]
        }
      ]
    },
    {
      "cell_type": "markdown",
      "source": [
        "**9. Write a program to convert user input from string to integer, float, and boolean types.**"
      ],
      "metadata": {
        "id": "RCUSWx6swUep"
      }
    },
    {
      "cell_type": "code",
      "source": [
        "x=input(\"Enter a number: \")\n",
        "print(\"Integer:\", int(x))\n",
        "print(\"float:\", float(x))\n",
        "print(\"boolean:\", bool(x))"
      ],
      "metadata": {
        "id": "Qb-y9mwTwZp7",
        "colab": {
          "base_uri": "https://localhost:8080/"
        },
        "outputId": "f13a902a-4c59-4528-e6db-d3bbf532d843"
      },
      "execution_count": 23,
      "outputs": [
        {
          "output_type": "stream",
          "name": "stdout",
          "text": [
            "Enter a number: 11\n",
            "Integer: 11\n",
            "float: 11.0\n",
            "boolean: True\n"
          ]
        }
      ]
    },
    {
      "cell_type": "markdown",
      "source": [
        "**10. Write code to demonstrate type casting with list elements.**"
      ],
      "metadata": {
        "id": "RdQU9XdewaiY"
      }
    },
    {
      "cell_type": "code",
      "source": [
        "str_list = [\"1\", \"2\", \"3\"]\n",
        "int_list = [int(x) for x in str_list]\n",
        "print(\"Converted List:\" , int_list)"
      ],
      "metadata": {
        "id": "UPIVj3Rawj8J",
        "colab": {
          "base_uri": "https://localhost:8080/"
        },
        "outputId": "a051bf61-a473-4cb9-9348-5768aed55cdd"
      },
      "execution_count": 24,
      "outputs": [
        {
          "output_type": "stream",
          "name": "stdout",
          "text": [
            "Converted List: [1, 2, 3]\n"
          ]
        }
      ]
    },
    {
      "cell_type": "markdown",
      "source": [
        "**11. Write a program that checks if a number is positive, negative, or zero.**"
      ],
      "metadata": {
        "id": "Lff3Nwxwwkuq"
      }
    },
    {
      "cell_type": "code",
      "source": [
        "number=int(input(\"Enter a number: \"))\n",
        "if number > 0:\n",
        "  print(\"Positive\")\n",
        "elif number < 0:\n",
        "  print(\"Negative\")\n",
        "else:\n",
        "  print(\"Zero\")"
      ],
      "metadata": {
        "id": "MUIDqzKXwp1y",
        "colab": {
          "base_uri": "https://localhost:8080/"
        },
        "outputId": "32ffb0e3-eadc-4370-a36c-7b4e2a6e18b6"
      },
      "execution_count": 26,
      "outputs": [
        {
          "output_type": "stream",
          "name": "stdout",
          "text": [
            "Enter a number: 5\n",
            "Positive\n"
          ]
        }
      ]
    },
    {
      "cell_type": "markdown",
      "source": [
        "**12. Write a for loop to print numbers from 1 to 10**"
      ],
      "metadata": {
        "id": "hMHqsfs0wqvY"
      }
    },
    {
      "cell_type": "code",
      "source": [
        "for i in range(1, 11):\n",
        "    print(i)"
      ],
      "metadata": {
        "id": "Om8Yg2YJwucZ",
        "colab": {
          "base_uri": "https://localhost:8080/"
        },
        "outputId": "76bf6d28-2da4-4d78-fa5a-84e97b72d1e4"
      },
      "execution_count": 28,
      "outputs": [
        {
          "output_type": "stream",
          "name": "stdout",
          "text": [
            "1\n",
            "2\n",
            "3\n",
            "4\n",
            "5\n",
            "6\n",
            "7\n",
            "8\n",
            "9\n",
            "10\n"
          ]
        }
      ]
    },
    {
      "cell_type": "markdown",
      "source": [
        "**13. Write a Python program to find the sum of all even numbers between 1 and 50.**"
      ],
      "metadata": {
        "id": "pyOcU5yWw2Sa"
      }
    },
    {
      "cell_type": "code",
      "source": [
        "even_sum = 0\n",
        "for num in range(2, 51, 2):\n",
        "    even_sum += num\n",
        "print(\"Sum of even numbers between 1 and 50:\", even_sum)"
      ],
      "metadata": {
        "id": "exqXLYf6w7GL",
        "colab": {
          "base_uri": "https://localhost:8080/"
        },
        "outputId": "68eae372-69bd-4fc9-b599-051203d0677b"
      },
      "execution_count": 29,
      "outputs": [
        {
          "output_type": "stream",
          "name": "stdout",
          "text": [
            "Sum of even numbers between 1 and 50: 650\n"
          ]
        }
      ]
    },
    {
      "cell_type": "markdown",
      "source": [
        "**14. Write a program to reverse a string using a while loop.**"
      ],
      "metadata": {
        "id": "CZ-u0_d8w7Za"
      }
    },
    {
      "cell_type": "code",
      "source": [
        "s = input(\"Enter a string: \")\n",
        "i = len(s) - 1\n",
        "reversed_s = \"\"\n",
        "while i >= 0:\n",
        "    reversed_s += s[i]\n",
        "    i -= 1\n",
        "print(\"Reversed String:\", reversed_s)\n"
      ],
      "metadata": {
        "id": "IDN4Lrj7xAmM",
        "colab": {
          "base_uri": "https://localhost:8080/"
        },
        "outputId": "59711c0c-3cc5-43ca-cee2-53055a074044"
      },
      "execution_count": 30,
      "outputs": [
        {
          "output_type": "stream",
          "name": "stdout",
          "text": [
            "Enter a string: 5\n",
            "Reversed String: 5\n"
          ]
        }
      ]
    },
    {
      "cell_type": "markdown",
      "source": [
        "**15. Write a Python program to calculate the factorial of a number provided by the user using a while loop.**"
      ],
      "metadata": {
        "id": "HFXZfLb1xBxZ"
      }
    },
    {
      "cell_type": "code",
      "source": [
        "num= int(input(\"Enter a number: \"))\n",
        "factorial=1\n",
        "while num>0:\n",
        "  factorial*=num\n",
        "  num-=1\n",
        "print(\"Factorial:\", factorial)"
      ],
      "metadata": {
        "id": "l3c8jouXxFPE",
        "colab": {
          "base_uri": "https://localhost:8080/"
        },
        "outputId": "52b3bb10-eeec-4ff6-e463-4417ea61bb94"
      },
      "execution_count": 31,
      "outputs": [
        {
          "output_type": "stream",
          "name": "stdout",
          "text": [
            "Enter a number: 6\n",
            "Factorial: 720\n"
          ]
        }
      ]
    }
  ]
}