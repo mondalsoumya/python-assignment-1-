{
  "nbformat": 4,
  "nbformat_minor": 0,
  "metadata": {
    "colab": {
      "provenance": []
    },
    "kernelspec": {
      "name": "python3",
      "display_name": "Python 3"
    },
    "language_info": {
      "name": "python"
    }
  },
  "cells": [
    {
      "cell_type": "markdown",
      "source": [
        "# **Theoretical Questions**"
      ],
      "metadata": {
        "id": "ug0yhw0NskZK"
      }
    },
    {
      "cell_type": "markdown",
      "source": [
        "## **1. What is NumPy, and why is it widely used in Python?**\n",
        "\n",
        "**Answer:**\n",
        "\n",
        "NumPy (Numerical Python) is a fundamental library in Python for numerical computing. Think of it as a super-efficient way to handle large collections of numbers (arrays) in Python. It's widely used because:\n",
        "\n",
        "- **Speed:** It's incredibly fast, much faster than standard Python lists for numerical operations, thanks to its underlying C implementations.\n",
        "\n",
        "- **Efficiency:** It uses less memory to store data.\n",
        "\n",
        "- **Powerful Operations:** It provides a vast array of mathematical functions to perform operations on these arrays, from basic arithmetic to advanced linear algebra.\n",
        "\n",
        "- **Foundation:** Many other popular Python data science libraries (like Pandas and SciPy) are built on top of NumPy, making it an essential building block."
      ],
      "metadata": {
        "id": "ojITDBHus4vb"
      }
    },
    {
      "cell_type": "markdown",
      "source": [
        "## **2. How does broadcasting work in NumPy?**\n",
        "\n",
        "**Answer:**\n",
        "\n",
        "Broadcasting in NumPy is like a smart way to perform operations on arrays of different shapes. Instead of having to explicitly make arrays the same size before an operation (like adding them together), NumPy automatically \"stretches\" or \"duplicates\" the smaller array's dimensions to match the larger one, without actually creating copies in memory. It follows specific rules to determine if and how arrays can be broadcast. It's a powerful feature that makes code more concise and efficient.\n",
        "\n"
      ],
      "metadata": {
        "id": "BZvPq4BytheL"
      }
    },
    {
      "cell_type": "markdown",
      "source": [
        "## **3. What is a Pandas DataFrame?**\n",
        "\n",
        "**Answer:**\n",
        "\n",
        "A Pandas DataFrame is like a spreadsheet or a table in a database. It's a two-dimensional, labeled data structure with columns that can hold different data types (numbers, text, booleans, etc.). Imagine an Excel sheet where each column has a name and each row has an index. DataFrames are incredibly versatile for storing and manipulating tabular data, making them central to data analysis in Python.\n"
      ],
      "metadata": {
        "id": "TWlAR7hwtvDW"
      }
    },
    {
      "cell_type": "markdown",
      "source": [
        "## **4. Explain the use of the groupby() method in Pandas.**\n",
        "\n",
        "**Answer:**\n",
        "\n",
        "The `groupby()` method in Pandas is used to split your data into groups based on some criteria, apply a function to each group independently, and then combine the results. Think of it as summarizing data. For example, if you have sales data, you could use `groupby()` to find the total sales for each product, or the average sales per region. It's a powerful tool for aggregation and analysis."
      ],
      "metadata": {
        "id": "7bhiudWAt5d0"
      }
    },
    {
      "cell_type": "markdown",
      "source": [
        "## **5. Why is Seaborn preferred for statistical visualization?**\n",
        "\n",
        "**Answer:**\n",
        "\n",
        "Seaborn is a Python data visualization library built on top of Matplotlib. It's preferred for statistical visualization because:\n",
        "\n",
        "- **High-Level Interface:** It offers a higher-level interface for drawing attractive and informative statistical graphics. You can create complex plots with fewer lines of code.\n",
        "\n",
        "- **Aesthetics:** It has beautiful default styles and color palettes, making your plots look professional without much effort.\n",
        "\n",
        "- **Statistical Focus:** It's specifically designed for statistical plotting, providing functions for things like regression plots, distribution plots, heatmaps, and more, which are common in statistical analysis.\n",
        "\n",
        "- **Integration with Pandas:** It works seamlessly with Pandas DataFrames, allowing you to easily plot data directly from your DataFrames.\n"
      ],
      "metadata": {
        "id": "I9MmxA9TuLA3"
      }
    },
    {
      "cell_type": "markdown",
      "source": [
        "##**6. What are the differences between NumPy arrays and Python lists?**\n",
        "\n",
        "**Answer:**\n",
        "\n",
        "- **Data Type:** NumPy arrays can only store elements of the same data type (e.g., all integers or all floats), which makes them very efficient. Python lists can store elements of different data types (e.g., an integer, a string, and a float in the same list).\n",
        "\n",
        "- **Performance:** NumPy arrays are significantly faster for numerical operations, especially on large datasets, due to their fixed type and optimized C implementations. Python lists are slower for numerical computations.\n",
        "\n",
        "- **Memory Usage:** NumPy arrays are more memory-efficient.\n",
        "\n",
        "- **Functionality:** NumPy provides a vast collection of mathematical functions that can be applied directly to entire arrays. Python lists have more general-purpose methods.\n",
        "\n",
        "- **Use Case:** NumPy arrays are ideal for numerical computing and scientific applications. Python lists are more general-purpose for storing collections of items."
      ],
      "metadata": {
        "id": "Zksx-HjousUG"
      }
    },
    {
      "cell_type": "markdown",
      "source": [
        "## **7. What is a heatmap, and when should it be used?**\n",
        "\n",
        "**Answer:**\n",
        "\n",
        "A heatmap is a graphical representation of data where individual values in a matrix are represented as colors. It's like a colored grid where the intensity of the color indicates the magnitude of the value. You should use a heatmap when:\n",
        "\n",
        "- You want to visualize the relationships or correlations between two variables (e.g., a correlation matrix).\n",
        "\n",
        "- You have a large matrix of numbers and want to quickly spot patterns, clusters, or outliers.\n",
        "\n",
        "- You want to show the intensity or density of data points in a two-dimensional space."
      ],
      "metadata": {
        "id": "jd5pT8ubvLFo"
      }
    },
    {
      "cell_type": "markdown",
      "source": [
        "## **8. What does the term \"vectorized operation\" mean in NumPy?**\n",
        "\n",
        "**Answer:**\n",
        "\n",
        "\"Vectorized operation\" in NumPy means performing an operation on an entire array at once, rather than iterating through individual elements using a Python loop. For example, if you want to add 5 to every number in an array, a vectorized operation would be `array + 5`. NumPy handles this operation very efficiently at the C level, making it much faster than writing a Python `for` loop to achieve the same result. It's about operating on whole \"vectors\" or \"matrices\" rather than scalars."
      ],
      "metadata": {
        "id": "zzu2CmogvaQC"
      }
    },
    {
      "cell_type": "markdown",
      "source": [
        "##**9. How does Matplotlib differ from Plotly?**\n",
        "\n",
        "**Answer:**\n",
        "\n",
        "Both Matplotlib and Plotly are Python libraries for creating visualizations, but they differ in their approach and capabilities:\n",
        "\n",
        "- **Matplotlib:**\n",
        "\n",
        "  - **Foundation:** It's the foundational plotting library in Python. Many other libraries are built on top of it.\n",
        "\n",
        "  - **Control:*** Offers fine-grained control over every aspect of a plot.\n",
        "\n",
        "  - **Static Plots:** Primarily generates static, publication-quality plots (PNG, PDF, etc.). While it has some interactive features, they are not its primary strength.\n",
        "\n",
        "  - **Code-Intensive:** Can sometimes require more lines of code for complex plots.\n",
        "\n",
        "- **Plotly:**\n",
        "\n",
        "  - **Interactivity:** Designed for creating interactive, web-based visualizations. You can zoom, pan, hover, and animate plots directly in a web browser or Jupyter notebook.\n",
        "\n",
        "  - **Online/Offline:** Can work online (publishing to Plotly's platform) or offline.\n",
        "\n",
        "  - **Declarative:** Often uses a more declarative approach to plotting, defining what you want rather than how to draw every pixel.\n",
        "\n",
        "  - **Dashboarding:** Well-suited for building interactive dashboards and web applications.\n"
      ],
      "metadata": {
        "id": "BKIru3rtvrQq"
      }
    },
    {
      "cell_type": "markdown",
      "source": [
        "##**10. What is the significance of hierarchical indexing in Pandas?**\n",
        "\n",
        "**Answer:**\n",
        "\n",
        "Hierarchical indexing (also known as MultiIndex) in Pandas allows you to have multiple levels of indexes on an axis (rows or columns). Its significance is:\n",
        "\n",
        "- **Handling Complex Data:** It enables you to represent and analyze data with higher dimensionality in a two-dimensional DataFrame, without having to reshape your data.\n",
        "\n",
        "- **Natural Grouping:** It provides a natural way to group data based on multiple categories.\n",
        "\n",
        "- **Efficient Subsetting:** Makes it easier and more intuitive to select or slice subsets of data based on various levels of the index.\n",
        "\n",
        "- **Reshaping Operations:** Crucial for operations like unstack() and stack() which pivot data between wide and long formats."
      ],
      "metadata": {
        "id": "soIB9OtOwig0"
      }
    },
    {
      "cell_type": "markdown",
      "source": [
        "## **11.What is the role of Seaborn's pairplot() function?**\n",
        "\n",
        "**Answer:**\n",
        "\n",
        "Seaborn's `pairplot()` function is used to create a grid of pairwise relationships in a dataset. It's a very quick way to get an overview of your data and the relationships between its numerical variables.\n",
        "\n",
        "- **Diagonal:** On the diagonal, it typically shows the distribution of each variable (e.g., a histogram or KDE plot).\n",
        "\n",
        "- **Off-Diagonal:** On the off-diagonal, it shows scatter plots for each pair of variables, allowing you to see their correlation and patterns.\n",
        "\n",
        "- **Categorical Variables:** You can also color-code points based on a categorical variable, which helps in identifying differences across groups."
      ],
      "metadata": {
        "id": "h7pWH3FFw81u"
      }
    },
    {
      "cell_type": "markdown",
      "source": [
        "## **12. What is the purpose of the describe() function in Pandas?**\n",
        "\n",
        "**Answer:**\n",
        "\n",
        "The `describe()` function in Pandas is used to generate descriptive statistics of your DataFrame or Series. It provides a quick summary of the central tendency, dispersion, and shape of the distribution of a dataset. For numerical data, it returns:\n",
        "\n",
        "- `count`: Number of non-null observations\n",
        "\n",
        "- `mean`: Average\n",
        "\n",
        "- `std`: Standard deviation\n",
        "\n",
        "- `min`: Minimum value\n",
        "\n",
        "- `25%`: 25th percentile (Q1)\n",
        "\n",
        "- `50%`: 50th percentile (median)\n",
        "\n",
        "- `75%`: 75th percentile (Q3)\n",
        "\n",
        "- `max`: Maximum value For object (string) or categorical data, it returns count, unique, top, and freq. It's your first stop for understanding the basic characteristics of your data."
      ],
      "metadata": {
        "id": "Wjxn3tKCxPkI"
      }
    },
    {
      "cell_type": "markdown",
      "source": [
        "## **13. Why is handling missing data important in Pandas?**\n",
        "\n",
        "**Answer:**\n",
        "\n",
        "Handling missing data is crucial in Pandas (and data analysis in general) because:\n",
        "\n",
        "- **Bias:** Missing data can introduce bias into your analysis, leading to inaccurate conclusions.\n",
        "\n",
        "- **Model Performance:** Many machine learning algorithms cannot handle missing values directly and will either throw errors or produce poor results.\n",
        "\n",
        "- **Integrity of Results:** If not addressed, missing data can compromise the integrity and reliability of your statistical calculations and visualizations.\n",
        "\n",
        "- **Data Quality:** It's a key aspect of data cleaning and ensuring the overall quality of your dataset."
      ],
      "metadata": {
        "id": "7Sy4BNRQx26W"
      }
    },
    {
      "cell_type": "markdown",
      "source": [
        "## **14. What are the benefits of using Plotly for data visualization?**\n",
        "\n",
        "**Answer:**\n",
        "\n",
        "The main benefits of using Plotly for data visualization include:\n",
        "\n",
        "- **Interactivity:** Creates interactive plots that allow users to zoom, pan, hover for details, and select data points directly in the browser. This is a huge advantage for exploration and presentations.\n",
        "\n",
        "- **Web-Based:** Generates HTML output, making plots easily shareable and embeddable in web applications, dashboards, and reports without needing specific software.\n",
        "\n",
        "- **Rich Plot Types:** Supports a wide range of plot types, including 3D plots, statistical charts, financial charts, and more.\n",
        "\n",
        "- **Python Integration:** Excellent integration with Python (and R, JavaScript, etc.), allowing for programmatic generation of complex visualizations.\n",
        "\n",
        "- **Dash Integration:** Works seamlessly with Dash, Plotly's framework for building analytical web applications."
      ],
      "metadata": {
        "id": "jILxLaq7yNX0"
      }
    },
    {
      "cell_type": "markdown",
      "source": [
        "## **15. How does NumPy handle multidimensional arrays?**\n",
        "\n",
        "**Answer:**\n",
        "\n",
        "NumPy's core strength lies in its efficient handling of multidimensional arrays, which are called `ndarray` objects. It treats arrays as contiguous blocks of memory, allowing for highly optimized operations.\n",
        "\n",
        "- **Shape:** Each `ndarray` has a `shape` attribute that defines its dimensions (e.g., a 2D array might have a shape of (rows, columns)).\n",
        "\n",
        "- **Indexing and Slicing:** You can access elements or subsets of these arrays using familiar bracket notation with multiple indices (e.g., `arr[row, column]`) or advanced slicing techniques.\n",
        "\n",
        "- **Mathematical Operations:** Most NumPy functions and operations are designed to work directly on these multidimensional arrays element-wise, or according to broadcasting rules, without requiring explicit loops. This makes operations like matrix multiplication, element-wise addition, and transposing very straightforward and fast."
      ],
      "metadata": {
        "id": "oibH6K3syvmQ"
      }
    },
    {
      "cell_type": "markdown",
      "source": [
        "## **16. What is the role of Bokeh in data visualization?**\n",
        "\n",
        "**Answer:**\n",
        "\n",
        "Bokeh is a Python library for creating interactive visualizations for modern web browsers. Its role is to enable the creation of highly interactive, web-based plots and dashboards directly from Python code.\n",
        "\n",
        "- **Interactivity:** Similar to Plotly, Bokeh focuses on interactivity, allowing for custom interactions, widgets, and dynamic updates.\n",
        "\n",
        "- **Streaming Data:** It's particularly well-suited for visualizing streaming or large datasets efficiently.\n",
        "\n",
        "- **Customization:** Offers extensive customization options for plot appearance and behavior.\n",
        "\n",
        "- **Standalone HTML/Server:** Can generate standalone HTML files, or be integrated into web applications via a Bokeh server for more complex, dynamic dashboards."
      ],
      "metadata": {
        "id": "4rfHx5Hx3T3T"
      }
    },
    {
      "cell_type": "markdown",
      "source": [
        "## **17. Explain the difference between apply() and map() in Pandas.**\n",
        "\n",
        "**Answer:**\n",
        "\n",
        "- `apply()`:\n",
        "\n",
        "  - **Purpose:** More general-purpose. Can be applied to a Series, DataFrame row-wise, or DataFrame column-wise.\n",
        "\n",
        "  - **Usage:** Often used when you need to apply a function that operates on an entire Series (e.g., calculate a statistic for each column) or on each row of a DataFrame.\n",
        "\n",
        "  - **Flexibility:** The function passed to `apply()` can accept a Series or a DataFrame row/column as input.\n",
        "\n",
        "- `map()`:\n",
        "\n",
        "  - **Purpose:** Specifically designed for Series. Used to substitute each value in a Series with another value.\n",
        "\n",
        "  - **Usage:** Ideal for element-wise mapping or transformation, like replacing values based on a dictionary or another Series.\n",
        "\n",
        "  - **Input:** The function or dictionary passed to `map()` operates on individual elements.\n",
        "\n",
        "- **In short:** `map()` is for element-wise transformations on a Series. `apply()` is more versatile and can operate on Series, rows, or columns, often for more complex transformations or aggregations."
      ],
      "metadata": {
        "id": "0LHBVgR33xpd"
      }
    },
    {
      "cell_type": "markdown",
      "source": [
        "## **18. What are some advanced features of NumPy?**\n",
        "\n",
        "**Answer:**\n",
        "\n",
        "Beyond basic array operations, some advanced features of NumPy include:\n",
        "\n",
        "- **Universal Functions (ufuncs):** Highly optimized C functions that operate element-wise on arrays. They support broadcasting and provide significant speedups.\n",
        "\n",
        "- **Linear Algebra:** Comprehensive set of functions for linear algebra operations (e.g., matrix multiplication, determinants, eigenvalues, singular value decomposition).\n",
        "\n",
        "- **Random Number Generation:** Sophisticated tools for generating various types of random numbers and distributions.\n",
        "\n",
        "- **Broadcasting Rules:** Complex broadcasting rules allow operations between arrays of different shapes.\n",
        "\n",
        "- **Memory Management (Views vs. Copies):** Understanding when operations return a \"view\" (no new memory allocated) versus a \"copy\" (new memory allocated) is crucial for performance and avoiding unexpected side effects.\n",
        "\n",
        "- **Structured Arrays:** Arrays that can hold data of different types, similar to C structs or database rows, but still within the `ndarray` framework.\n",
        "\n",
        "- **Fancy Indexing and Boolean Indexing:** Powerful ways to select non-contiguous elements or elements based on a condition."
      ],
      "metadata": {
        "id": "0fwrIdMD-9wI"
      }
    },
    {
      "cell_type": "markdown",
      "source": [
        "## **19. How does Pandas simplify time series analysis?**\n",
        "\n",
        "**Answer:**\n",
        "\n",
        "Pandas significantly simplifies time series analysis through:\n",
        "\n",
        "- **DatetimeIndex:** Its specialized `DatetimeIndex` allows for powerful and intuitive indexing, slicing, and resampling of time-stamped data.\n",
        "\n",
        "- **Resampling:** Easily change the frequency of time series data (e.g., from daily to monthly, or vice versa) using methods like `resample()`.\n",
        "\n",
        "- **Time-aware Operations:** Built-in functions for time-aware operations like `shift()`, `diff()`, and rolling window calculations (e.g., `rolling()`, `mean()`).\n",
        "\n",
        "- **Missing Data Handling:** Robust tools for handling missing values in time series (e.g., `fillna()`, `bfill()`, `ffill()`).\n",
        "\n",
        "- **Offsets and Frequencies:** Support for various date and time offsets and frequencies (e.g., 'D' for daily, 'M' for monthly, 'H' for hourly).\n",
        "\n",
        "- **Plotting Integration:** Seamless integration with Matplotlib and other plotting libraries for visualizing time series."
      ],
      "metadata": {
        "id": "5I8cpK4X_bYH"
      }
    },
    {
      "cell_type": "markdown",
      "source": [
        "## **20. What is the role of a pivot table in Pandas?**\n",
        "\n",
        "**Answer:**\n",
        "\n",
        "A pivot table in Pandas is a powerful tool used to summarize and reorganize data in a DataFrame. Its role is to:\n",
        "\n",
        "- **Aggregate Data:** Allow you to aggregate data (e.g., sum, mean, count) based on one or more \"pivot\" columns.\n",
        "\n",
        "- **Reshape Data:** Transform \"long\" format data into a \"wide\" format, making it easier to analyze relationships between different variables.\n",
        "\n",
        "- **Multi-level Summaries:** Create multi-level row and column indexes for complex summaries, enabling you to slice and dice data from different perspectives.\n",
        "\n",
        "- **Reporting:** Ideal for generating summary reports and cross-tabulations, similar to pivot tables in spreadsheet software."
      ],
      "metadata": {
        "id": "6w0hdo3EAM98"
      }
    },
    {
      "cell_type": "markdown",
      "source": [
        "## **21. Why is NumPy's array slicing faster than Python's list slicing?**\n",
        "\n",
        "**Answer:**\n",
        "\n",
        "NumPy's array slicing is significantly faster than Python's list slicing primarily due to:\n",
        "\n",
        "- **Memory Contiguity:** NumPy arrays store elements of the same data type contiguously in memory. This allows for highly efficient low-level (C/Fortran) memory access and processing. Python lists, on the other hand, store pointers to objects that can be scattered in memory.\n",
        "\n",
        "- **Views vs. Copies:** When you slice a NumPy array, it often returns a \"view\" of the original array (i.e., a new array object that refers to the same underlying data). This avoids the overhead of creating a new copy of the data, saving both time and memory. Python list slicing always creates a new list, copying the elements.\n",
        "\n",
        "- **Optimized Implementations:** NumPy's slicing operations are implemented in highly optimized C code, leveraging efficient memory access patterns. Python list slicing is handled at a higher, less optimized level."
      ],
      "metadata": {
        "id": "syXoF6uHAf3V"
      }
    },
    {
      "cell_type": "markdown",
      "source": [
        "## **22. What are some common use cases for Seaborn?**\n",
        "\n",
        "**Answer:**\n",
        "\n",
        "Seaborn is excellent for various statistical visualization tasks:\n",
        "\n",
        "- **Exploring Distributions:** Plotting histograms, kernel density estimates (KDEs), and box plots to understand the distribution of variables.\n",
        "\n",
        "- **Visualizing Relationships:** Creating scatter plots, line plots, and regression plots to show relationships between numerical variables.\n",
        "\n",
        "- **Categorical Data Visualization:** Generating bar plots, count plots, and box plots for comparing data across different categories.\n",
        "\n",
        "- **Heatmaps:** Visualizing correlation matrices or general matrix data to identify patterns.\n",
        "\n",
        "- **Pair Plots:** Getting a quick overview of pairwise relationships between all numerical variables in a dataset.\n",
        "\n",
        "- **Time Series Plots:** Although Matplotlib is the base, Seaborn can often make time series plots more aesthetically pleasing and integrate well with Pandas' time series features.\n",
        "\n",
        "- **Facet Grids:** Creating grids of plots that show relationships conditioned on different levels of categorical variables."
      ],
      "metadata": {
        "id": "5ID4J6yCAtDb"
      }
    },
    {
      "cell_type": "markdown",
      "source": [
        "\n",
        "\n",
        "---\n",
        "\n"
      ],
      "metadata": {
        "id": "ONi8wmMQwPwz"
      }
    },
    {
      "cell_type": "markdown",
      "source": [
        "# **Practical Questions**"
      ],
      "metadata": {
        "id": "W0G-GjnzBKBb"
      }
    },
    {
      "cell_type": "markdown",
      "source": [
        "## **1. How do you create a 2D NumPy array and calculate the sum of each row?**\n",
        "\n",
        "**Answer:**"
      ],
      "metadata": {
        "id": "qpHDOoT7BeTl"
      }
    },
    {
      "cell_type": "code",
      "source": [
        "import numpy as np\n",
        "\n",
        "arr = np.array([[1, 2, 3], [4, 5, 6]])\n",
        "row_sums = np.sum(arr, axis=1)\n",
        "print(\"Row sums:\", row_sums)"
      ],
      "metadata": {
        "colab": {
          "base_uri": "https://localhost:8080/"
        },
        "id": "6Z_JRbbMBmDm",
        "outputId": "4bfb6a30-7aa2-408a-bab8-0f3acfacd108"
      },
      "execution_count": 1,
      "outputs": [
        {
          "output_type": "stream",
          "name": "stdout",
          "text": [
            "Row sums: [ 6 15]\n"
          ]
        }
      ]
    },
    {
      "cell_type": "markdown",
      "source": [
        "## **2. Write a Pandas script to find the mean of a specific column in a DataFrame.**\n",
        "\n",
        "**Answer:**"
      ],
      "metadata": {
        "id": "rOYx_PGDBsO2"
      }
    },
    {
      "cell_type": "code",
      "source": [
        "import pandas as pd\n",
        "\n",
        "df = pd.DataFrame({'A': [1, 2, 3], 'B': [4, 5, 6]})\n",
        "mean_A = df['A'].mean()\n",
        "print(\"Mean of column A:\", mean_A)"
      ],
      "metadata": {
        "colab": {
          "base_uri": "https://localhost:8080/"
        },
        "id": "uDNPXK93BxA-",
        "outputId": "acb922c1-dd18-456f-a4d2-0b2854784b54"
      },
      "execution_count": 2,
      "outputs": [
        {
          "output_type": "stream",
          "name": "stdout",
          "text": [
            "Mean of column A: 2.0\n"
          ]
        }
      ]
    },
    {
      "cell_type": "markdown",
      "source": [
        "## **3. A Create a scatter plot using Matplotlib.**\n",
        "\n",
        "**Answer:**"
      ],
      "metadata": {
        "id": "uV0PwHCPB4qM"
      }
    },
    {
      "cell_type": "code",
      "source": [
        "import matplotlib.pyplot as plt\n",
        "\n",
        "x = [1, 2, 3, 4]\n",
        "y = [10, 20, 25, 30]\n",
        "plt.scatter(x, y)\n",
        "plt.title(\"Scatter Plot\")\n",
        "plt.xlabel(\"X Axis\")\n",
        "plt.ylabel(\"Y Axis\")\n",
        "plt.show()"
      ],
      "metadata": {
        "colab": {
          "base_uri": "https://localhost:8080/",
          "height": 472
        },
        "id": "C5X8R76RB9Q9",
        "outputId": "a9899a4e-b055-46e3-d1bf-06bee70c89c5"
      },
      "execution_count": 3,
      "outputs": [
        {
          "output_type": "display_data",
          "data": {
            "text/plain": [
              "<Figure size 640x480 with 1 Axes>"
            ],
            "image/png": "[encoded data removed]"
          },
          "metadata": {}
        }
      ]
    },
    {
      "cell_type": "markdown",
      "source": [
        "## **4. How do you calculate the correlation matrix using Seaborn and visualize it with a heatmap?**\n",
        "\n",
        "**Answer:**"
      ],
      "metadata": {
        "id": "sZUzGCb8CDlu"
      }
    },
    {
      "cell_type": "code",
      "source": [
        "import seaborn as sns\n",
        "\n",
        "df = pd.DataFrame(np.random.rand(5, 3), columns=['A', 'B', 'C'])\n",
        "corr = df.corr()\n",
        "sns.heatmap(corr, annot=True, cmap='coolwarm')\n",
        "plt.show()\n",
        ""
      ],
      "metadata": {
        "colab": {
          "base_uri": "https://localhost:8080/",
          "height": 435
        },
        "id": "Xdpxb0vzCJb4",
        "outputId": "74799ae2-b849-414c-dd12-2d39c0365cf2"
      },
      "execution_count": 4,
      "outputs": [
        {
          "output_type": "display_data",
          "data": {
            "text/plain": [
              "<Figure size 640x480 with 2 Axes>"
            ],
            "image/png": "[encoded data removed]"
          },
          "metadata": {}
        }
      ]
    },
    {
      "cell_type": "markdown",
      "source": [
        "## **5. Generate a bar plot using Plotly.**\n",
        "\n",
        "**Answer:**"
      ],
      "metadata": {
        "id": "jsR8YyniCU9n"
      }
    },
    {
      "cell_type": "code",
      "source": [
        "import plotly.express as px\n",
        "\n",
        "data = {'Fruits': ['Apples', 'Bananas', 'Oranges'], 'Quantity': [15, 30, 20]}\n",
        "df = pd.DataFrame(data)\n",
        "fig = px.bar(df, x='Fruits', y='Quantity', title='Fruit Quantities')\n",
        "fig.show()\n"
      ],
      "metadata": {
        "colab": {
          "base_uri": "https://localhost:8080/",
          "height": 542
        },
        "id": "bFsrvcKWCZbP",
        "outputId": "b024fd2d-2895-4be8-d446-88ce1d4de763"
      },
      "execution_count": 5,
      "outputs": [
        {
          "output_type": "display_data",
          "data": {
            "text/html": [
              "<html>\n",
              "<head><meta charset=\"utf-8\" /></head>\n",
              "<body>\n",
              "    <div>            <script src=\"https://cdnjs.cloudflare.com/ajax/libs/mathjax/2.7.5/MathJax.js?config=TeX-AMS-MML_SVG\"></script><script type=\"text/javascript\">if (window.MathJax && window.MathJax.Hub && window.MathJax.Hub.Config) {window.MathJax.Hub.Config({SVG: {font: \"STIX-Web\"}});}</script>                <script type=\"text/javascript\">window.PlotlyConfig = {MathJaxConfig: 'local'};</script>\n",
              "        <script charset=\"utf-8\" src=\"https://cdn.plot.ly/plotly-2.35.2.min.js\"></script>                <div id=\"bd3eb146-80a8-4dd6-a41e-13e67d935085\" class=\"plotly-graph-div\" style=\"height:525px; width:100%;\"></div>            <script type=\"text/javascript\">                                    window.PLOTLYENV=window.PLOTLYENV || {};                                    if (document.getElementById(\"bd3eb146-80a8-4dd6-a41e-13e67d935085\")) {                    Plotly.newPlot(                        \"bd3eb146-80a8-4dd6-a41e-13e67d935085\",                        [{\"alignmentgroup\":\"True\",\"hovertemplate\":\"Fruits=%{x}\\u003cbr\\u003eQuantity=%{y}\\u003cextra\\u003e\\u003c\\u002fextra\\u003e\",\"legendgroup\":\"\",\"marker\":{\"color\":\"#636efa\",\"pattern\":{\"shape\":\"\"}},\"name\":\"\",\"offsetgroup\":\"\",\"orientation\":\"v\",\"showlegend\":false,\"textposition\":\"auto\",\"x\":[\"Apples\",\"Bananas\",\"Oranges\"],\"xaxis\":\"x\",\"y\":[15,30,20],\"yaxis\":\"y\",\"type\":\"bar\"}],                        {\"template\":{\"data\":{\"histogram2dcontour\":[{\"type\":\"histogram2dcontour\",\"colorbar\":{\"outlinewidth\":0,\"ticks\":\"\"},\"colorscale\":[[0.0,\"#0d0887\"],[0.1111111111111111,\"#46039f\"],[0.2222222222222222,\"#7201a8\"],[0.3333333333333333,\"#9c179e\"],[0.4444444444444444,\"#bd3786\"],[0.5555555555555556,\"#d8576b\"],[0.6666666666666666,\"#ed7953\"],[0.7777777777777778,\"#fb9f3a\"],[0.8888888888888888,\"#fdca26\"],[1.0,\"#f0f921\"]]}],\"choropleth\":[{\"type\":\"choropleth\",\"colorbar\":{\"outlinewidth\":0,\"ticks\":\"\"}}],\"histogram2d\":[{\"type\":\"histogram2d\",\"colorbar\":{\"outlinewidth\":0,\"ticks\":\"\"},\"colorscale\":[[0.0,\"#0d0887\"],[0.1111111111111111,\"#46039f\"],[0.2222222222222222,\"#7201a8\"],[0.3333333333333333,\"#9c179e\"],[0.4444444444444444,\"#bd3786\"],[0.5555555555555556,\"#d8576b\"],[0.6666666666666666,\"#ed7953\"],[0.7777777777777778,\"#fb9f3a\"],[0.8888888888888888,\"#fdca26\"],[1.0,\"#f0f921\"]]}],\"heatmap\":[{\"type\":\"heatmap\",\"colorbar\":{\"outlinewidth\":0,\"ticks\":\"\"},\"colorscale\":[[0.0,\"#0d0887\"],[0.1111111111111111,\"#46039f\"],[0.2222222222222222,\"#7201a8\"],[0.3333333333333333,\"#9c179e\"],[0.4444444444444444,\"#bd3786\"],[0.5555555555555556,\"#d8576b\"],[0.6666666666666666,\"#ed7953\"],[0.7777777777777778,\"#fb9f3a\"],[0.8888888888888888,\"#fdca26\"],[1.0,\"#f0f921\"]]}],\"heatmapgl\":[{\"type\":\"heatmapgl\",\"colorbar\":{\"outlinewidth\":0,\"ticks\":\"\"},\"colorscale\":[[0.0,\"#0d0887\"],[0.1111111111111111,\"#46039f\"],[0.2222222222222222,\"#7201a8\"],[0.3333333333333333,\"#9c179e\"],[0.4444444444444444,\"#bd3786\"],[0.5555555555555556,\"#d8576b\"],[0.6666666666666666,\"#ed7953\"],[0.7777777777777778,\"#fb9f3a\"],[0.8888888888888888,\"#fdca26\"],[1.0,\"#f0f921\"]]}],\"contourcarpet\":[{\"type\":\"contourcarpet\",\"colorbar\":{\"outlinewidth\":0,\"ticks\":\"\"}}],\"contour\":[{\"type\":\"contour\",\"colorbar\":{\"outlinewidth\":0,\"ticks\":\"\"},\"colorscale\":[[0.0,\"#0d0887\"],[0.1111111111111111,\"#46039f\"],[0.2222222222222222,\"#7201a8\"],[0.3333333333333333,\"#9c179e\"],[0.4444444444444444,\"#bd3786\"],[0.5555555555555556,\"#d8576b\"],[0.6666666666666666,\"#ed7953\"],[0.7777777777777778,\"#fb9f3a\"],[0.8888888888888888,\"#fdca26\"],[1.0,\"#f0f921\"]]}],\"surface\":[{\"type\":\"surface\",\"colorbar\":{\"outlinewidth\":0,\"ticks\":\"\"},\"colorscale\":[[0.0,\"#0d0887\"],[0.1111111111111111,\"#46039f\"],[0.2222222222222222,\"#7201a8\"],[0.3333333333333333,\"#9c179e\"],[0.4444444444444444,\"#bd3786\"],[0.5555555555555556,\"#d8576b\"],[0.6666666666666666,\"#ed7953\"],[0.7777777777777778,\"#fb9f3a\"],[0.8888888888888888,\"#fdca26\"],[1.0,\"#f0f921\"]]}],\"mesh3d\":[{\"type\":\"mesh3d\",\"colorbar\":{\"outlinewidth\":0,\"ticks\":\"\"}}],\"scatter\":[{\"fillpattern\":{\"fillmode\":\"overlay\",\"size\":10,\"solidity\":0.2},\"type\":\"scatter\"}],\"parcoords\":[{\"type\":\"parcoords\",\"line\":{\"colorbar\":{\"outlinewidth\":0,\"ticks\":\"\"}}}],\"scatterpolargl\":[{\"type\":\"scatterpolargl\",\"marker\":{\"colorbar\":{\"outlinewidth\":0,\"ticks\":\"\"}}}],\"bar\":[{\"error_x\":{\"color\":\"#2a3f5f\"},\"error_y\":{\"color\":\"#2a3f5f\"},\"marker\":{\"line\":{\"color\":\"#E5ECF6\",\"width\":0.5},\"pattern\":{\"fillmode\":\"overlay\",\"size\":10,\"solidity\":0.2}},\"type\":\"bar\"}],\"scattergeo\":[{\"type\":\"scattergeo\",\"marker\":{\"colorbar\":{\"outlinewidth\":0,\"ticks\":\"\"}}}],\"scatterpolar\":[{\"type\":\"scatterpolar\",\"marker\":{\"colorbar\":{\"outlinewidth\":0,\"ticks\":\"\"}}}],\"histogram\":[{\"marker\":{\"pattern\":{\"fillmode\":\"overlay\",\"size\":10,\"solidity\":0.2}},\"type\":\"histogram\"}],\"scattergl\":[{\"type\":\"scattergl\",\"marker\":{\"colorbar\":{\"outlinewidth\":0,\"ticks\":\"\"}}}],\"scatter3d\":[{\"type\":\"scatter3d\",\"line\":{\"colorbar\":{\"outlinewidth\":0,\"ticks\":\"\"}},\"marker\":{\"colorbar\":{\"outlinewidth\":0,\"ticks\":\"\"}}}],\"scattermapbox\":[{\"type\":\"scattermapbox\",\"marker\":{\"colorbar\":{\"outlinewidth\":0,\"ticks\":\"\"}}}],\"scatterternary\":[{\"type\":\"scatterternary\",\"marker\":{\"colorbar\":{\"outlinewidth\":0,\"ticks\":\"\"}}}],\"scattercarpet\":[{\"type\":\"scattercarpet\",\"marker\":{\"colorbar\":{\"outlinewidth\":0,\"ticks\":\"\"}}}],\"carpet\":[{\"aaxis\":{\"endlinecolor\":\"#2a3f5f\",\"gridcolor\":\"white\",\"linecolor\":\"white\",\"minorgridcolor\":\"white\",\"startlinecolor\":\"#2a3f5f\"},\"baxis\":{\"endlinecolor\":\"#2a3f5f\",\"gridcolor\":\"white\",\"linecolor\":\"white\",\"minorgridcolor\":\"white\",\"startlinecolor\":\"#2a3f5f\"},\"type\":\"carpet\"}],\"table\":[{\"cells\":{\"fill\":{\"color\":\"#EBF0F8\"},\"line\":{\"color\":\"white\"}},\"header\":{\"fill\":{\"color\":\"#C8D4E3\"},\"line\":{\"color\":\"white\"}},\"type\":\"table\"}],\"barpolar\":[{\"marker\":{\"line\":{\"color\":\"#E5ECF6\",\"width\":0.5},\"pattern\":{\"fillmode\":\"overlay\",\"size\":10,\"solidity\":0.2}},\"type\":\"barpolar\"}],\"pie\":[{\"automargin\":true,\"type\":\"pie\"}]},\"layout\":{\"autotypenumbers\":\"strict\",\"colorway\":[\"#636efa\",\"#EF553B\",\"#00cc96\",\"#ab63fa\",\"#FFA15A\",\"#19d3f3\",\"#FF6692\",\"#B6E880\",\"#FF97FF\",\"#FECB52\"],\"font\":{\"color\":\"#2a3f5f\"},\"hovermode\":\"closest\",\"hoverlabel\":{\"align\":\"left\"},\"paper_bgcolor\":\"white\",\"plot_bgcolor\":\"#E5ECF6\",\"polar\":{\"bgcolor\":\"#E5ECF6\",\"angularaxis\":{\"gridcolor\":\"white\",\"linecolor\":\"white\",\"ticks\":\"\"},\"radialaxis\":{\"gridcolor\":\"white\",\"linecolor\":\"white\",\"ticks\":\"\"}},\"ternary\":{\"bgcolor\":\"#E5ECF6\",\"aaxis\":{\"gridcolor\":\"white\",\"linecolor\":\"white\",\"ticks\":\"\"},\"baxis\":{\"gridcolor\":\"white\",\"linecolor\":\"white\",\"ticks\":\"\"},\"caxis\":{\"gridcolor\":\"white\",\"linecolor\":\"white\",\"ticks\":\"\"}},\"coloraxis\":{\"colorbar\":{\"outlinewidth\":0,\"ticks\":\"\"}},\"colorscale\":{\"sequential\":[[0.0,\"#0d0887\"],[0.1111111111111111,\"#46039f\"],[0.2222222222222222,\"#7201a8\"],[0.3333333333333333,\"#9c179e\"],[0.4444444444444444,\"#bd3786\"],[0.5555555555555556,\"#d8576b\"],[0.6666666666666666,\"#ed7953\"],[0.7777777777777778,\"#fb9f3a\"],[0.8888888888888888,\"#fdca26\"],[1.0,\"#f0f921\"]],\"sequentialminus\":[[0.0,\"#0d0887\"],[0.1111111111111111,\"#46039f\"],[0.2222222222222222,\"#7201a8\"],[0.3333333333333333,\"#9c179e\"],[0.4444444444444444,\"#bd3786\"],[0.5555555555555556,\"#d8576b\"],[0.6666666666666666,\"#ed7953\"],[0.7777777777777778,\"#fb9f3a\"],[0.8888888888888888,\"#fdca26\"],[1.0,\"#f0f921\"]],\"diverging\":[[0,\"#8e0152\"],[0.1,\"#c51b7d\"],[0.2,\"#de77ae\"],[0.3,\"#f1b6da\"],[0.4,\"#fde0ef\"],[0.5,\"#f7f7f7\"],[0.6,\"#e6f5d0\"],[0.7,\"#b8e186\"],[0.8,\"#7fbc41\"],[0.9,\"#4d9221\"],[1,\"#276419\"]]},\"xaxis\":{\"gridcolor\":\"white\",\"linecolor\":\"white\",\"ticks\":\"\",\"title\":{\"standoff\":15},\"zerolinecolor\":\"white\",\"automargin\":true,\"zerolinewidth\":2},\"yaxis\":{\"gridcolor\":\"white\",\"linecolor\":\"white\",\"ticks\":\"\",\"title\":{\"standoff\":15},\"zerolinecolor\":\"white\",\"automargin\":true,\"zerolinewidth\":2},\"scene\":{\"xaxis\":{\"backgroundcolor\":\"#E5ECF6\",\"gridcolor\":\"white\",\"linecolor\":\"white\",\"showbackground\":true,\"ticks\":\"\",\"zerolinecolor\":\"white\",\"gridwidth\":2},\"yaxis\":{\"backgroundcolor\":\"#E5ECF6\",\"gridcolor\":\"white\",\"linecolor\":\"white\",\"showbackground\":true,\"ticks\":\"\",\"zerolinecolor\":\"white\",\"gridwidth\":2},\"zaxis\":{\"backgroundcolor\":\"#E5ECF6\",\"gridcolor\":\"white\",\"linecolor\":\"white\",\"showbackground\":true,\"ticks\":\"\",\"zerolinecolor\":\"white\",\"gridwidth\":2}},\"shapedefaults\":{\"line\":{\"color\":\"#2a3f5f\"}},\"annotationdefaults\":{\"arrowcolor\":\"#2a3f5f\",\"arrowhead\":0,\"arrowwidth\":1},\"geo\":{\"bgcolor\":\"white\",\"landcolor\":\"#E5ECF6\",\"subunitcolor\":\"white\",\"showland\":true,\"showlakes\":true,\"lakecolor\":\"white\"},\"title\":{\"x\":0.05},\"mapbox\":{\"style\":\"light\"}}},\"xaxis\":{\"anchor\":\"y\",\"domain\":[0.0,1.0],\"title\":{\"text\":\"Fruits\"}},\"yaxis\":{\"anchor\":\"x\",\"domain\":[0.0,1.0],\"title\":{\"text\":\"Quantity\"}},\"legend\":{\"tracegroupgap\":0},\"title\":{\"text\":\"Fruit Quantities\"},\"barmode\":\"relative\"},                        {\"responsive\": true}                    ).then(function(){\n",
              "                            \n",
              "var gd = document.getElementById('bd3eb146-80a8-4dd6-a41e-13e67d935085');\n",
              "var x = new MutationObserver(function (mutations, observer) {{\n",
              "        var display = window.getComputedStyle(gd).display;\n",
              "        if (!display || display === 'none') {{\n",
              "            console.log([gd, 'removed!']);\n",
              "            Plotly.purge(gd);\n",
              "            observer.disconnect();\n",
              "        }}\n",
              "}});\n",
              "\n",
              "// Listen for the removal of the full notebook cells\n",
              "var notebookContainer = gd.closest('#notebook-container');\n",
              "if (notebookContainer) {{\n",
              "    x.observe(notebookContainer, {childList: true});\n",
              "}}\n",
              "\n",
              "// Listen for the clearing of the current output cell\n",
              "var outputEl = gd.closest('.output');\n",
              "if (outputEl) {{\n",
              "    x.observe(outputEl, {childList: true});\n",
              "}}\n",
              "\n",
              "                        })                };                            </script>        </div>\n",
              "</body>\n",
              "</html>"
            ]
          },
          "metadata": {}
        }
      ]
    },
    {
      "cell_type": "markdown",
      "source": [
        "##**6. Create a DataFrame and add a new column based on an existing column.**\n",
        "\n",
        "**Answer:**"
      ],
      "metadata": {
        "id": "ExOhIk0hChLK"
      }
    },
    {
      "cell_type": "code",
      "source": [
        "df = pd.DataFrame({'A': [1, 2, 3]})\n",
        "df['B'] = df['A'] * 2\n",
        "print(df)"
      ],
      "metadata": {
        "colab": {
          "base_uri": "https://localhost:8080/"
        },
        "id": "dWKlakV4CmJ_",
        "outputId": "971bb923-e2d3-49cb-dddb-dabfa0a77a02"
      },
      "execution_count": 6,
      "outputs": [
        {
          "output_type": "stream",
          "name": "stdout",
          "text": [
            "   A  B\n",
            "0  1  2\n",
            "1  2  4\n",
            "2  3  6\n"
          ]
        }
      ]
    },
    {
      "cell_type": "markdown",
      "source": [
        "## **7. Write a program to perform element-wise multiplication of two NumPy arrays.**\n",
        "\n",
        "**Answer:**"
      ],
      "metadata": {
        "id": "l15aBLItCqMx"
      }
    },
    {
      "cell_type": "code",
      "source": [
        "a = np.array([1, 2, 3])\n",
        "b = np.array([4, 5, 6])\n",
        "result = a * b\n",
        "print(\"Element-wise multiplication:\", result)\n"
      ],
      "metadata": {
        "colab": {
          "base_uri": "https://localhost:8080/"
        },
        "id": "4L0zEr_RCu0F",
        "outputId": "86282ce7-9219-4639-c4d0-1316f10139b2"
      },
      "execution_count": 7,
      "outputs": [
        {
          "output_type": "stream",
          "name": "stdout",
          "text": [
            "Element-wise multiplication: [ 4 10 18]\n"
          ]
        }
      ]
    },
    {
      "cell_type": "markdown",
      "source": [
        "## **8. Create a line plot with multiple lines using Matplotlib.**\n",
        "\n",
        "**Answer:**"
      ],
      "metadata": {
        "id": "a_wNWUaZC3Xg"
      }
    },
    {
      "cell_type": "code",
      "source": [
        "x = [1, 2, 3, 4]\n",
        "y1 = [10, 20, 30, 40]\n",
        "y2 = [40, 30, 20, 10]\n",
        "plt.plot(x, y1, label='Line 1')\n",
        "plt.plot(x, y2, label='Line 2')\n",
        "plt.legend()\n",
        "plt.title(\"Multiple Lines\")\n",
        "plt.show()\n",
        ""
      ],
      "metadata": {
        "colab": {
          "base_uri": "https://localhost:8080/",
          "height": 452
        },
        "id": "yIs_ZhKFC8gA",
        "outputId": "87ceab2b-9dd7-486b-bccb-1136831d3412"
      },
      "execution_count": 8,
      "outputs": [
        {
          "output_type": "display_data",
          "data": {
            "text/plain": [
              "<Figure size 640x480 with 1 Axes>"
            ],
            "image/png": "[encoded data removed]"
          },
          "metadata": {}
        }
      ]
    },
    {
      "cell_type": "markdown",
      "source": [
        "## **9. Generate a Pandas DataFrame and filter rows where a column value is greater than a threshold.**\n",
        "\n",
        "**Answer:**"
      ],
      "metadata": {
        "id": "-efALuc8DAWw"
      }
    },
    {
      "cell_type": "code",
      "source": [
        "df = pd.DataFrame({'A': [10, 20, 5, 30]})\n",
        "filtered_df = df[df['A'] > 15]\n",
        "print(filtered_df)"
      ],
      "metadata": {
        "colab": {
          "base_uri": "https://localhost:8080/"
        },
        "id": "-gDGCWVmDHXZ",
        "outputId": "ff2dd495-b6d3-411e-b8eb-579cf70a0e33"
      },
      "execution_count": 9,
      "outputs": [
        {
          "output_type": "stream",
          "name": "stdout",
          "text": [
            "    A\n",
            "1  20\n",
            "3  30\n"
          ]
        }
      ]
    },
    {
      "cell_type": "markdown",
      "source": [
        "## **10. Create a histogram using Seaborn to visualize a distribution.**\n",
        "\n",
        "**Answer:**"
      ],
      "metadata": {
        "id": "4nsUhiRsDLPI"
      }
    },
    {
      "cell_type": "code",
      "source": [
        "sns.histplot(df['A'], bins=5, kde=True)\n",
        "plt.title(\"Histogram\")\n",
        "plt.show()"
      ],
      "metadata": {
        "colab": {
          "base_uri": "https://localhost:8080/",
          "height": 472
        },
        "id": "-gHcNI2IDQGP",
        "outputId": "9fb561a9-3e14-4453-fd27-06014f248b66"
      },
      "execution_count": 10,
      "outputs": [
        {
          "output_type": "display_data",
          "data": {
            "text/plain": [
              "<Figure size 640x480 with 1 Axes>"
            ],
            "image/png": "[encoded data removed]"
          },
          "metadata": {}
        }
      ]
    },
    {
      "cell_type": "markdown",
      "source": [
        "## **11. Perform matrix multiplication using NumPy.**\n",
        "\n",
        "**Answer:**\n"
      ],
      "metadata": {
        "id": "9o4N9KayDY0Z"
      }
    },
    {
      "cell_type": "code",
      "source": [
        "mat1 = np.array([[1, 2], [3, 4]])\n",
        "mat2 = np.array([[5, 6], [7, 8]])\n",
        "product = np.dot(mat1, mat2)\n",
        "print(\"Matrix multiplication result:\\n\", product)\n"
      ],
      "metadata": {
        "colab": {
          "base_uri": "https://localhost:8080/"
        },
        "id": "7dlckpmBDfHq",
        "outputId": "e7cdcf64-ad76-4817-96ac-05b87e01e0d4"
      },
      "execution_count": 11,
      "outputs": [
        {
          "output_type": "stream",
          "name": "stdout",
          "text": [
            "Matrix multiplication result:\n",
            " [[19 22]\n",
            " [43 50]]\n"
          ]
        }
      ]
    },
    {
      "cell_type": "markdown",
      "source": [
        "##**12. Use Pandas to load a CSV file and display its first 5 rows.**\n",
        "\n",
        "**Answer:**"
      ],
      "metadata": {
        "id": "1iJBMQPuDkxD"
      }
    },
    {
      "cell_type": "code",
      "source": [
        "!pip install pandas"
      ],
      "metadata": {
        "colab": {
          "base_uri": "https://localhost:8080/"
        },
        "id": "umyQ3NnXDqIy",
        "outputId": "509d321b-5c15-4b3c-9235-bf2081d66777"
      },
      "execution_count": 12,
      "outputs": [
        {
          "output_type": "stream",
          "name": "stdout",
          "text": [
            "Requirement already satisfied: pandas in /usr/local/lib/python3.11/dist-packages (2.2.2)\n",
            "Requirement already satisfied: numpy>=1.23.2 in /usr/local/lib/python3.11/dist-packages (from pandas) (2.0.2)\n",
            "Requirement already satisfied: python-dateutil>=2.8.2 in /usr/local/lib/python3.11/dist-packages (from pandas) (2.9.0.post0)\n",
            "Requirement already satisfied: pytz>=2020.1 in /usr/local/lib/python3.11/dist-packages (from pandas) (2025.2)\n",
            "Requirement already satisfied: tzdata>=2022.7 in /usr/local/lib/python3.11/dist-packages (from pandas) (2025.2)\n",
            "Requirement already satisfied: six>=1.5 in /usr/local/lib/python3.11/dist-packages (from python-dateutil>=2.8.2->pandas) (1.17.0)\n"
          ]
        }
      ]
    },
    {
      "cell_type": "code",
      "source": [
        "import pandas as pd"
      ],
      "metadata": {
        "id": "AvKZHsRVDx6S"
      },
      "execution_count": 13,
      "outputs": []
    },
    {
      "cell_type": "code",
      "source": [
        "# Create a sample DataFrame\n",
        "data = {'Name': ['Soumya', 'Sudipta', 'Ananda', 'Saraswati', 'Sanhita'],\n",
        "        'Age': [26, 24, 55, 47, 49],\n",
        "        'City': ['Kolkata', 'Kolkata', 'Noida', 'Delhi', 'Mumbai']\n",
        "        }\n",
        "df = pd.DataFrame(data)\n",
        "\n",
        "# Save it as a CSV file\n",
        "df.to_csv('sample.csv', index=False)\n",
        "\n",
        "# Load the CSV file using pandas\n",
        "loaded_df = pd.read_csv('sample.csv')\n",
        "\n",
        "# Display the first 5 rows\n",
        "print(loaded_df.head())"
      ],
      "metadata": {
        "colab": {
          "base_uri": "https://localhost:8080/"
        },
        "id": "97KCouquD6Lp",
        "outputId": "779c9712-ce2f-41f9-ed02-66d9668e6bb5"
      },
      "execution_count": 19,
      "outputs": [
        {
          "output_type": "stream",
          "name": "stdout",
          "text": [
            "        Name  Age     City\n",
            "0     Soumya   26  Kolkata\n",
            "1    Sudipta   24  Kolkata\n",
            "2     Ananda   55    Noida\n",
            "3  Saraswati   47    Delhi\n",
            "4    Sanhita   49   Mumbai\n"
          ]
        }
      ]
    },
    {
      "cell_type": "markdown",
      "source": [
        "## **13. Create a 3D scatter plot using Plotly.**\n",
        "\n",
        "**Answer:**"
      ],
      "metadata": {
        "id": "27XRE3JbF15G"
      }
    },
    {
      "cell_type": "code",
      "source": [
        "import plotly.graph_objects as go\n",
        "\n",
        "fig = go.Figure(data=[go.Scatter3d(\n",
        "    x=[1, 2, 3],\n",
        "    y=[4, 5, 6],\n",
        "    z=[7, 8, 9],\n",
        "    mode='markers'\n",
        ")])\n",
        "fig.update_layout(title='3D Scatter Plot')\n",
        "fig.show()\n",
        "\n"
      ],
      "metadata": {
        "colab": {
          "base_uri": "https://localhost:8080/",
          "height": 542
        },
        "id": "ZpcEzZapF7Rf",
        "outputId": "68e53e4d-3594-4029-ac40-0c30b4ef5cf6"
      },
      "execution_count": 18,
      "outputs": [
        {
          "output_type": "display_data",
          "data": {
            "text/html": [
              "<html>\n",
              "<head><meta charset=\"utf-8\" /></head>\n",
              "<body>\n",
              "    <div>            <script src=\"https://cdnjs.cloudflare.com/ajax/libs/mathjax/2.7.5/MathJax.js?config=TeX-AMS-MML_SVG\"></script><script type=\"text/javascript\">if (window.MathJax && window.MathJax.Hub && window.MathJax.Hub.Config) {window.MathJax.Hub.Config({SVG: {font: \"STIX-Web\"}});}</script>                <script type=\"text/javascript\">window.PlotlyConfig = {MathJaxConfig: 'local'};</script>\n",
              "        <script charset=\"utf-8\" src=\"https://cdn.plot.ly/plotly-2.35.2.min.js\"></script>                <div id=\"a8fedb48-0162-4043-b0dc-9a1ad5f32b60\" class=\"plotly-graph-div\" style=\"height:525px; width:100%;\"></div>            <script type=\"text/javascript\">                                    window.PLOTLYENV=window.PLOTLYENV || {};                                    if (document.getElementById(\"a8fedb48-0162-4043-b0dc-9a1ad5f32b60\")) {                    Plotly.newPlot(                        \"a8fedb48-0162-4043-b0dc-9a1ad5f32b60\",                        [{\"mode\":\"markers\",\"x\":[1,2,3],\"y\":[4,5,6],\"z\":[7,8,9],\"type\":\"scatter3d\"}],                        {\"template\":{\"data\":{\"histogram2dcontour\":[{\"type\":\"histogram2dcontour\",\"colorbar\":{\"outlinewidth\":0,\"ticks\":\"\"},\"colorscale\":[[0.0,\"#0d0887\"],[0.1111111111111111,\"#46039f\"],[0.2222222222222222,\"#7201a8\"],[0.3333333333333333,\"#9c179e\"],[0.4444444444444444,\"#bd3786\"],[0.5555555555555556,\"#d8576b\"],[0.6666666666666666,\"#ed7953\"],[0.7777777777777778,\"#fb9f3a\"],[0.8888888888888888,\"#fdca26\"],[1.0,\"#f0f921\"]]}],\"choropleth\":[{\"type\":\"choropleth\",\"colorbar\":{\"outlinewidth\":0,\"ticks\":\"\"}}],\"histogram2d\":[{\"type\":\"histogram2d\",\"colorbar\":{\"outlinewidth\":0,\"ticks\":\"\"},\"colorscale\":[[0.0,\"#0d0887\"],[0.1111111111111111,\"#46039f\"],[0.2222222222222222,\"#7201a8\"],[0.3333333333333333,\"#9c179e\"],[0.4444444444444444,\"#bd3786\"],[0.5555555555555556,\"#d8576b\"],[0.6666666666666666,\"#ed7953\"],[0.7777777777777778,\"#fb9f3a\"],[0.8888888888888888,\"#fdca26\"],[1.0,\"#f0f921\"]]}],\"heatmap\":[{\"type\":\"heatmap\",\"colorbar\":{\"outlinewidth\":0,\"ticks\":\"\"},\"colorscale\":[[0.0,\"#0d0887\"],[0.1111111111111111,\"#46039f\"],[0.2222222222222222,\"#7201a8\"],[0.3333333333333333,\"#9c179e\"],[0.4444444444444444,\"#bd3786\"],[0.5555555555555556,\"#d8576b\"],[0.6666666666666666,\"#ed7953\"],[0.7777777777777778,\"#fb9f3a\"],[0.8888888888888888,\"#fdca26\"],[1.0,\"#f0f921\"]]}],\"heatmapgl\":[{\"type\":\"heatmapgl\",\"colorbar\":{\"outlinewidth\":0,\"ticks\":\"\"},\"colorscale\":[[0.0,\"#0d0887\"],[0.1111111111111111,\"#46039f\"],[0.2222222222222222,\"#7201a8\"],[0.3333333333333333,\"#9c179e\"],[0.4444444444444444,\"#bd3786\"],[0.5555555555555556,\"#d8576b\"],[0.6666666666666666,\"#ed7953\"],[0.7777777777777778,\"#fb9f3a\"],[0.8888888888888888,\"#fdca26\"],[1.0,\"#f0f921\"]]}],\"contourcarpet\":[{\"type\":\"contourcarpet\",\"colorbar\":{\"outlinewidth\":0,\"ticks\":\"\"}}],\"contour\":[{\"type\":\"contour\",\"colorbar\":{\"outlinewidth\":0,\"ticks\":\"\"},\"colorscale\":[[0.0,\"#0d0887\"],[0.1111111111111111,\"#46039f\"],[0.2222222222222222,\"#7201a8\"],[0.3333333333333333,\"#9c179e\"],[0.4444444444444444,\"#bd3786\"],[0.5555555555555556,\"#d8576b\"],[0.6666666666666666,\"#ed7953\"],[0.7777777777777778,\"#fb9f3a\"],[0.8888888888888888,\"#fdca26\"],[1.0,\"#f0f921\"]]}],\"surface\":[{\"type\":\"surface\",\"colorbar\":{\"outlinewidth\":0,\"ticks\":\"\"},\"colorscale\":[[0.0,\"#0d0887\"],[0.1111111111111111,\"#46039f\"],[0.2222222222222222,\"#7201a8\"],[0.3333333333333333,\"#9c179e\"],[0.4444444444444444,\"#bd3786\"],[0.5555555555555556,\"#d8576b\"],[0.6666666666666666,\"#ed7953\"],[0.7777777777777778,\"#fb9f3a\"],[0.8888888888888888,\"#fdca26\"],[1.0,\"#f0f921\"]]}],\"mesh3d\":[{\"type\":\"mesh3d\",\"colorbar\":{\"outlinewidth\":0,\"ticks\":\"\"}}],\"scatter\":[{\"fillpattern\":{\"fillmode\":\"overlay\",\"size\":10,\"solidity\":0.2},\"type\":\"scatter\"}],\"parcoords\":[{\"type\":\"parcoords\",\"line\":{\"colorbar\":{\"outlinewidth\":0,\"ticks\":\"\"}}}],\"scatterpolargl\":[{\"type\":\"scatterpolargl\",\"marker\":{\"colorbar\":{\"outlinewidth\":0,\"ticks\":\"\"}}}],\"bar\":[{\"error_x\":{\"color\":\"#2a3f5f\"},\"error_y\":{\"color\":\"#2a3f5f\"},\"marker\":{\"line\":{\"color\":\"#E5ECF6\",\"width\":0.5},\"pattern\":{\"fillmode\":\"overlay\",\"size\":10,\"solidity\":0.2}},\"type\":\"bar\"}],\"scattergeo\":[{\"type\":\"scattergeo\",\"marker\":{\"colorbar\":{\"outlinewidth\":0,\"ticks\":\"\"}}}],\"scatterpolar\":[{\"type\":\"scatterpolar\",\"marker\":{\"colorbar\":{\"outlinewidth\":0,\"ticks\":\"\"}}}],\"histogram\":[{\"marker\":{\"pattern\":{\"fillmode\":\"overlay\",\"size\":10,\"solidity\":0.2}},\"type\":\"histogram\"}],\"scattergl\":[{\"type\":\"scattergl\",\"marker\":{\"colorbar\":{\"outlinewidth\":0,\"ticks\":\"\"}}}],\"scatter3d\":[{\"type\":\"scatter3d\",\"line\":{\"colorbar\":{\"outlinewidth\":0,\"ticks\":\"\"}},\"marker\":{\"colorbar\":{\"outlinewidth\":0,\"ticks\":\"\"}}}],\"scattermapbox\":[{\"type\":\"scattermapbox\",\"marker\":{\"colorbar\":{\"outlinewidth\":0,\"ticks\":\"\"}}}],\"scatterternary\":[{\"type\":\"scatterternary\",\"marker\":{\"colorbar\":{\"outlinewidth\":0,\"ticks\":\"\"}}}],\"scattercarpet\":[{\"type\":\"scattercarpet\",\"marker\":{\"colorbar\":{\"outlinewidth\":0,\"ticks\":\"\"}}}],\"carpet\":[{\"aaxis\":{\"endlinecolor\":\"#2a3f5f\",\"gridcolor\":\"white\",\"linecolor\":\"white\",\"minorgridcolor\":\"white\",\"startlinecolor\":\"#2a3f5f\"},\"baxis\":{\"endlinecolor\":\"#2a3f5f\",\"gridcolor\":\"white\",\"linecolor\":\"white\",\"minorgridcolor\":\"white\",\"startlinecolor\":\"#2a3f5f\"},\"type\":\"carpet\"}],\"table\":[{\"cells\":{\"fill\":{\"color\":\"#EBF0F8\"},\"line\":{\"color\":\"white\"}},\"header\":{\"fill\":{\"color\":\"#C8D4E3\"},\"line\":{\"color\":\"white\"}},\"type\":\"table\"}],\"barpolar\":[{\"marker\":{\"line\":{\"color\":\"#E5ECF6\",\"width\":0.5},\"pattern\":{\"fillmode\":\"overlay\",\"size\":10,\"solidity\":0.2}},\"type\":\"barpolar\"}],\"pie\":[{\"automargin\":true,\"type\":\"pie\"}]},\"layout\":{\"autotypenumbers\":\"strict\",\"colorway\":[\"#636efa\",\"#EF553B\",\"#00cc96\",\"#ab63fa\",\"#FFA15A\",\"#19d3f3\",\"#FF6692\",\"#B6E880\",\"#FF97FF\",\"#FECB52\"],\"font\":{\"color\":\"#2a3f5f\"},\"hovermode\":\"closest\",\"hoverlabel\":{\"align\":\"left\"},\"paper_bgcolor\":\"white\",\"plot_bgcolor\":\"#E5ECF6\",\"polar\":{\"bgcolor\":\"#E5ECF6\",\"angularaxis\":{\"gridcolor\":\"white\",\"linecolor\":\"white\",\"ticks\":\"\"},\"radialaxis\":{\"gridcolor\":\"white\",\"linecolor\":\"white\",\"ticks\":\"\"}},\"ternary\":{\"bgcolor\":\"#E5ECF6\",\"aaxis\":{\"gridcolor\":\"white\",\"linecolor\":\"white\",\"ticks\":\"\"},\"baxis\":{\"gridcolor\":\"white\",\"linecolor\":\"white\",\"ticks\":\"\"},\"caxis\":{\"gridcolor\":\"white\",\"linecolor\":\"white\",\"ticks\":\"\"}},\"coloraxis\":{\"colorbar\":{\"outlinewidth\":0,\"ticks\":\"\"}},\"colorscale\":{\"sequential\":[[0.0,\"#0d0887\"],[0.1111111111111111,\"#46039f\"],[0.2222222222222222,\"#7201a8\"],[0.3333333333333333,\"#9c179e\"],[0.4444444444444444,\"#bd3786\"],[0.5555555555555556,\"#d8576b\"],[0.6666666666666666,\"#ed7953\"],[0.7777777777777778,\"#fb9f3a\"],[0.8888888888888888,\"#fdca26\"],[1.0,\"#f0f921\"]],\"sequentialminus\":[[0.0,\"#0d0887\"],[0.1111111111111111,\"#46039f\"],[0.2222222222222222,\"#7201a8\"],[0.3333333333333333,\"#9c179e\"],[0.4444444444444444,\"#bd3786\"],[0.5555555555555556,\"#d8576b\"],[0.6666666666666666,\"#ed7953\"],[0.7777777777777778,\"#fb9f3a\"],[0.8888888888888888,\"#fdca26\"],[1.0,\"#f0f921\"]],\"diverging\":[[0,\"#8e0152\"],[0.1,\"#c51b7d\"],[0.2,\"#de77ae\"],[0.3,\"#f1b6da\"],[0.4,\"#fde0ef\"],[0.5,\"#f7f7f7\"],[0.6,\"#e6f5d0\"],[0.7,\"#b8e186\"],[0.8,\"#7fbc41\"],[0.9,\"#4d9221\"],[1,\"#276419\"]]},\"xaxis\":{\"gridcolor\":\"white\",\"linecolor\":\"white\",\"ticks\":\"\",\"title\":{\"standoff\":15},\"zerolinecolor\":\"white\",\"automargin\":true,\"zerolinewidth\":2},\"yaxis\":{\"gridcolor\":\"white\",\"linecolor\":\"white\",\"ticks\":\"\",\"title\":{\"standoff\":15},\"zerolinecolor\":\"white\",\"automargin\":true,\"zerolinewidth\":2},\"scene\":{\"xaxis\":{\"backgroundcolor\":\"#E5ECF6\",\"gridcolor\":\"white\",\"linecolor\":\"white\",\"showbackground\":true,\"ticks\":\"\",\"zerolinecolor\":\"white\",\"gridwidth\":2},\"yaxis\":{\"backgroundcolor\":\"#E5ECF6\",\"gridcolor\":\"white\",\"linecolor\":\"white\",\"showbackground\":true,\"ticks\":\"\",\"zerolinecolor\":\"white\",\"gridwidth\":2},\"zaxis\":{\"backgroundcolor\":\"#E5ECF6\",\"gridcolor\":\"white\",\"linecolor\":\"white\",\"showbackground\":true,\"ticks\":\"\",\"zerolinecolor\":\"white\",\"gridwidth\":2}},\"shapedefaults\":{\"line\":{\"color\":\"#2a3f5f\"}},\"annotationdefaults\":{\"arrowcolor\":\"#2a3f5f\",\"arrowhead\":0,\"arrowwidth\":1},\"geo\":{\"bgcolor\":\"white\",\"landcolor\":\"#E5ECF6\",\"subunitcolor\":\"white\",\"showland\":true,\"showlakes\":true,\"lakecolor\":\"white\"},\"title\":{\"x\":0.05},\"mapbox\":{\"style\":\"light\"}}},\"title\":{\"text\":\"3D Scatter Plot\"}},                        {\"responsive\": true}                    ).then(function(){\n",
              "                            \n",
              "var gd = document.getElementById('a8fedb48-0162-4043-b0dc-9a1ad5f32b60');\n",
              "var x = new MutationObserver(function (mutations, observer) {{\n",
              "        var display = window.getComputedStyle(gd).display;\n",
              "        if (!display || display === 'none') {{\n",
              "            console.log([gd, 'removed!']);\n",
              "            Plotly.purge(gd);\n",
              "            observer.disconnect();\n",
              "        }}\n",
              "}});\n",
              "\n",
              "// Listen for the removal of the full notebook cells\n",
              "var notebookContainer = gd.closest('#notebook-container');\n",
              "if (notebookContainer) {{\n",
              "    x.observe(notebookContainer, {childList: true});\n",
              "}}\n",
              "\n",
              "// Listen for the clearing of the current output cell\n",
              "var outputEl = gd.closest('.output');\n",
              "if (outputEl) {{\n",
              "    x.observe(outputEl, {childList: true});\n",
              "}}\n",
              "\n",
              "                        })                };                            </script>        </div>\n",
              "</body>\n",
              "</html>"
            ]
          },
          "metadata": {}
        }
      ]
    },
    {
      "cell_type": "markdown",
      "source": [
        "\n",
        "\n",
        "---\n",
        "\n"
      ],
      "metadata": {
        "id": "IwTVoQVdBc-2"
      }
    }
  ]
}