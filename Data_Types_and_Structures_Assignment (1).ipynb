{
  "nbformat": 4,
  "nbformat_minor": 0,
  "metadata": {
    "colab": {
      "provenance": []
    },
    "kernelspec": {
      "name": "python3",
      "display_name": "Python 3"
    },
    "language_info": {
      "name": "python"
    }
  },
  "cells": [
    {
      "cell_type": "markdown",
      "source": [
        "***Data Types and Structures Assignment*** ▶ ✍"
      ],
      "metadata": {
        "id": "aU5neBfTbELU"
      }
    },
    {
      "cell_type": "markdown",
      "source": [
        "## **Theoretical Questions** 🔽"
      ],
      "metadata": {
        "id": "nhWq41Enc0d5"
      }
    },
    {
      "cell_type": "markdown",
      "source": [
        "**1. What are data structures, and why are they important ?**\n",
        "\n",
        "**Ans.** Data structures are ways to store and organize data so that we can use it easily. They are important because they help us manage and process data efficiently, especially when we deal with large amounts of it."
      ],
      "metadata": {
        "id": "uVRe6ct8dTVk"
      }
    },
    {
      "cell_type": "markdown",
      "source": [
        "**2. Explain the difference between mutable and immutable data types with examples.**\n",
        "\n",
        "**Ans.**\n",
        "- **Mutable** means changeable. You can change the data after creating it. Example: list, dict\n",
        "\n"
      ],
      "metadata": {
        "id": "LTMLGRY3dToy"
      }
    },
    {
      "cell_type": "code",
      "source": [
        "my_list = [1, 2, 3]\n",
        "my_list.append(4)\n",
        "print(my_list)"
      ],
      "metadata": {
        "colab": {
          "base_uri": "https://localhost:8080/"
        },
        "id": "2eL6GhTHhqs4",
        "outputId": "4a48b710-d069-4f99-ed19-2b19040ff47d"
      },
      "execution_count": 1,
      "outputs": [
        {
          "output_type": "stream",
          "name": "stdout",
          "text": [
            "[1, 2, 3, 4]\n"
          ]
        }
      ]
    },
    {
      "cell_type": "markdown",
      "source": [
        "This changes the list."
      ],
      "metadata": {
        "id": "wOMkLkMBiARf"
      }
    },
    {
      "cell_type": "markdown",
      "source": [
        "- **Immutable** means you cannot change the data once it is created. Example: str, tuple"
      ],
      "metadata": {
        "id": "JO8z0Tp4iKp3"
      }
    },
    {
      "cell_type": "code",
      "source": [
        "my_str =\"hello\"\n",
        "# You cannot change individual characters in a string like this:\n",
        "# my_str[0] = \"H\"\n",
        "\n",
        "# Instead, you can create a new string with the desired changes\n",
        "# Using slicing and concatenation:\n",
        "new_str = \"H\" + my_str[1:]\n",
        "print(new_str)"
      ],
      "metadata": {
        "colab": {
          "base_uri": "https://localhost:8080/"
        },
        "id": "rXbNKRN5hzZX",
        "outputId": "a5aa9cee-4e14-4e12-f3eb-8bdfd1726ceb"
      },
      "execution_count": 4,
      "outputs": [
        {
          "output_type": "stream",
          "name": "stdout",
          "text": [
            "Hello\n"
          ]
        }
      ]
    },
    {
      "cell_type": "markdown",
      "source": [
        "**3. What are the main differences between lists and tuples in Python?**\n",
        "\n",
        "**Ans.**\n",
        "- Lists can be changed (mutable), but tuples cannot (immutable).\n",
        "\n",
        "- Lists use more memory; tuples are faster and use less memory.\n",
        "\n",
        "- Lists have more features like append, remove, etc."
      ],
      "metadata": {
        "id": "AGS6HgeidT7Z"
      }
    },
    {
      "cell_type": "markdown",
      "source": [
        "**4. Describe how dictionaries store data.**\n",
        "\n",
        "**Ans.** Dictionaries store data in key-value pairs. Each key is unique, and you use it to find its value."
      ],
      "metadata": {
        "id": "esZl2PZWdUJB"
      }
    },
    {
      "cell_type": "code",
      "source": [
        "# example\n",
        "my_dict = {\"name\": \"Soumyadip\", \"age\": 20}\n",
        "print(my_dict[\"name\"])"
      ],
      "metadata": {
        "colab": {
          "base_uri": "https://localhost:8080/"
        },
        "id": "_acA0pEkjrCB",
        "outputId": "a2e132f0-02ef-4f65-f964-b0899b981fd1"
      },
      "execution_count": 5,
      "outputs": [
        {
          "output_type": "stream",
          "name": "stdout",
          "text": [
            "Soumyadip\n"
          ]
        }
      ]
    },
    {
      "cell_type": "markdown",
      "source": [
        "**5. Why might you use a set instead of a list in Python?**\n",
        "\n",
        "**Ans.** Use a set when:\n",
        "\n",
        "- You do not want duplicate values.\n",
        "\n",
        "- You want to check if something exists quickly."
      ],
      "metadata": {
        "id": "YmLyHDSmdUR5"
      }
    },
    {
      "cell_type": "markdown",
      "source": [
        "**6. What is a string in Python, and how is it different from a list?**\n",
        "\n",
        "**Ans.** A string is a series of characters (like words or sentences). A list can have anything (numbers, strings, etc.) and can be changed, but strings cannot be changed after creation."
      ],
      "metadata": {
        "id": "Q82jlnJndUub"
      }
    },
    {
      "cell_type": "markdown",
      "source": [
        "**7. How do tuples ensure data integrity in Python?**\n",
        "\n",
        "**Ans.** Tuples can’t be changed after you create them. So they keep the data safe from accidental changes."
      ],
      "metadata": {
        "id": "VIBTAB_ldUxD"
      }
    },
    {
      "cell_type": "markdown",
      "source": [
        "**8. What is a hash table, and how does it relate to dictionaries in Python?**\n",
        "\n",
        "**Ans.** A hash table is a way of storing data using keys. Python dictionaries are built using hash tables, so you can find things fast by using a key."
      ],
      "metadata": {
        "id": "enKe3My6dUzf"
      }
    },
    {
      "cell_type": "markdown",
      "source": [
        "**9. Can lists contain different data types in Python?**\n",
        "\n",
        "**Ans.** Yes! A list can have numbers, strings, even other lists."
      ],
      "metadata": {
        "id": "CIRPiWjOdU1s"
      }
    },
    {
      "cell_type": "code",
      "source": [
        "#Example\n",
        "my_list = [1, \"hello\", [1, 2, 3]]\n",
        "print(my_list)"
      ],
      "metadata": {
        "colab": {
          "base_uri": "https://localhost:8080/"
        },
        "id": "jSD5bkGskZFS",
        "outputId": "d3e88731-193e-42eb-d62d-eefb6a0fc797"
      },
      "execution_count": 8,
      "outputs": [
        {
          "output_type": "stream",
          "name": "stdout",
          "text": [
            "[1, 'hello', [1, 2, 3]]\n"
          ]
        }
      ]
    },
    {
      "cell_type": "markdown",
      "source": [
        "**10. Explain why strings are immutable in Python.**\n",
        "\n",
        "**Ans.** Strings are made unchangeable (immutable) for safety and performance. This also allows them to be used as keys in dictionaries."
      ],
      "metadata": {
        "id": "QLIY4WsodU5w"
      }
    },
    {
      "cell_type": "markdown",
      "source": [
        "**11. What advantages do dictionaries offer over lists for certain tasks?**\n",
        "\n",
        "**Ans.** Dictionaries let you look up data by name (key), not just position. This is faster and easier when dealing with labeled data."
      ],
      "metadata": {
        "id": "VxJVsD71dU_V"
      }
    },
    {
      "cell_type": "markdown",
      "source": [
        "**12. Describe a scenario where using a tuple would be preferable over a list.**\n",
        "\n",
        "**Ans.** Use a tuple when the data should not change. Example: storing coordinates (x, y) or days of the week."
      ],
      "metadata": {
        "id": "EuNAf70mdVCQ"
      }
    },
    {
      "cell_type": "markdown",
      "source": [
        "**13. How do sets handle duplicate values in Python?**\n",
        "\n",
        "**Ans.** Sets automatically remove duplicates. Example: Set ([1, 2, 2, 3]) becomes {1, 2, 3}"
      ],
      "metadata": {
        "id": "uoEAIt3rdVFB"
      }
    },
    {
      "cell_type": "markdown",
      "source": [
        "**14. How does the “in” keyword work differently for lists and dictionaries?**\n",
        "\n",
        "**Ans.**\n",
        "- In lists: checks if a value exists.\n",
        "\n",
        "- In dictionaries: checks if a key exists."
      ],
      "metadata": {
        "id": "ZNBwAv1idVHf"
      }
    },
    {
      "cell_type": "markdown",
      "source": [
        "**15. Can you modify the elements of a tuple? Explain why or why not.**\n",
        "\n",
        "**Ans.** No, tuples cannot be changed. They are immutable."
      ],
      "metadata": {
        "id": "GB7UkHlQdVJ9"
      }
    },
    {
      "cell_type": "markdown",
      "source": [
        "**16. What is a nested dictionary, and give an example of its use case ?**\n",
        "\n",
        "**Ans.** A dictionary inside another dictionary."
      ],
      "metadata": {
        "id": "Ogif2UFNdVMV"
      }
    },
    {
      "cell_type": "code",
      "source": [
        "# example\n",
        "my_dict = {\n",
        "    \"person1\": {\n",
        "        \"name\": \"Mithi\",\n",
        "        \"age\": 25\n",
        "    },\n",
        "    \"person2\": {\n",
        "        \"name\": \"Soumya\",\n",
        "        \"age\": 27\n",
        "    }\n",
        "}"
      ],
      "metadata": {
        "id": "W8a6jsCfla3F"
      },
      "execution_count": 11,
      "outputs": []
    },
    {
      "cell_type": "markdown",
      "source": [
        "**17. Describe the time complexity of accessing elements in a dictionary.**\n",
        "\n",
        "**Ans.** It is O(1), which means very fast, because of the way hash tables work."
      ],
      "metadata": {
        "id": "IEM2iQbRdVPy"
      }
    },
    {
      "cell_type": "markdown",
      "source": [
        "**18. In what situations are lists preferred over dictionaries?**\n",
        "\n",
        "**Ans.** Use lists when:\n",
        "\n",
        "- You only care about the order of items.\n",
        "\n",
        "- You don’t need key-value pairs."
      ],
      "metadata": {
        "id": "5MjPCCUTdVSx"
      }
    },
    {
      "cell_type": "markdown",
      "source": [
        "**19. Why are dictionaries considered unordered, and how does that affect data retrieval?**\n",
        "\n",
        "**Ans.** Before Python 3.7, dictionaries didn’t keep the order of items. Now they do, but we still access items by key, not position."
      ],
      "metadata": {
        "id": "T4sU19Z_dVVs"
      }
    },
    {
      "cell_type": "markdown",
      "source": [
        "**20. Explain the difference between a list and a dictionary in terms of data retrieval.**\n",
        "\n",
        "**Ans.**\n",
        "- Lists use indexes (numbers) to get items.\n",
        "\n",
        "- Dictionaries use keys (names or labels)."
      ],
      "metadata": {
        "id": "tkOx3Mv7dVYZ"
      }
    },
    {
      "cell_type": "markdown",
      "source": [
        "## **Practical Questions** 🔽"
      ],
      "metadata": {
        "id": "_VVVVYrHdVbY"
      }
    },
    {
      "cell_type": "markdown",
      "source": [
        "**1. Write a code to create a string with your name and print it.**"
      ],
      "metadata": {
        "id": "T5YQj21UdVeJ"
      }
    },
    {
      "cell_type": "code",
      "source": [
        "name=\"Soumyadip\"\n",
        "print(name)"
      ],
      "metadata": {
        "colab": {
          "base_uri": "https://localhost:8080/"
        },
        "id": "zMAUJPAPipVR",
        "outputId": "f38ff95f-76b1-4295-fefa-2cbe468f9e14"
      },
      "execution_count": null,
      "outputs": [
        {
          "output_type": "stream",
          "name": "stdout",
          "text": [
            "Soumyadip\n"
          ]
        }
      ]
    },
    {
      "cell_type": "markdown",
      "source": [
        "**2. Write a code to find the length of the string \"Hello World\".**"
      ],
      "metadata": {
        "id": "FzTP-8MVdVgz"
      }
    },
    {
      "cell_type": "code",
      "source": [
        "text=\"Hello World\"\n",
        "print(len(text))"
      ],
      "metadata": {
        "id": "_mDELQuCi-C1",
        "colab": {
          "base_uri": "https://localhost:8080/"
        },
        "outputId": "2cfb0697-7374-4eca-e903-b1a68d9c79e0"
      },
      "execution_count": 12,
      "outputs": [
        {
          "output_type": "stream",
          "name": "stdout",
          "text": [
            "11\n"
          ]
        }
      ]
    },
    {
      "cell_type": "markdown",
      "source": [
        "**3. Write a code to slice the first 3 characters from the string \"Python Programming\".**"
      ],
      "metadata": {
        "id": "XEHPTI_ndVis"
      }
    },
    {
      "cell_type": "code",
      "source": [
        "text=\"Python Programming\"\n",
        "print(text[:3])"
      ],
      "metadata": {
        "id": "9zjygUu-jFYo",
        "colab": {
          "base_uri": "https://localhost:8080/"
        },
        "outputId": "42ff4da3-5ac5-4783-d034-30b71d558e93"
      },
      "execution_count": 13,
      "outputs": [
        {
          "output_type": "stream",
          "name": "stdout",
          "text": [
            "Pyt\n"
          ]
        }
      ]
    },
    {
      "cell_type": "markdown",
      "source": [
        "**4. Write a code to convert the string \"hello\" to uppercase.**"
      ],
      "metadata": {
        "id": "PrQqTPyZdVlZ"
      }
    },
    {
      "cell_type": "code",
      "source": [
        "text=\"hello\"\n",
        "print(text.upper())"
      ],
      "metadata": {
        "id": "8qqBmPXEjQtx",
        "colab": {
          "base_uri": "https://localhost:8080/"
        },
        "outputId": "0771851e-5018-4e60-e73f-1f67296717ba"
      },
      "execution_count": 14,
      "outputs": [
        {
          "output_type": "stream",
          "name": "stdout",
          "text": [
            "HELLO\n"
          ]
        }
      ]
    },
    {
      "cell_type": "markdown",
      "source": [
        "**5. Write a code to replace the word \"apple\" with \"orange\" in the string \"I like apple\"**"
      ],
      "metadata": {
        "id": "4P_o2R7JdVnf"
      }
    },
    {
      "cell_type": "code",
      "source": [
        "sentence=\"I like apple\"\n",
        "print(sentence.replace(\"apple\", \"orange\"))"
      ],
      "metadata": {
        "id": "9RojHgykbDdW",
        "colab": {
          "base_uri": "https://localhost:8080/"
        },
        "outputId": "0ae1f556-f043-4fc2-ca85-01a68d637c5e"
      },
      "execution_count": 15,
      "outputs": [
        {
          "output_type": "stream",
          "name": "stdout",
          "text": [
            "I like orange\n"
          ]
        }
      ]
    },
    {
      "cell_type": "markdown",
      "source": [
        "**6. Write a code to create a list with numbers 1 to 5 and print it.**"
      ],
      "metadata": {
        "id": "5ZOP5idFjc98"
      }
    },
    {
      "cell_type": "code",
      "source": [
        "numbers=[1, 2, 3, 4, 5]\n",
        "print(numbers)"
      ],
      "metadata": {
        "id": "QL__mkvyjn_5",
        "colab": {
          "base_uri": "https://localhost:8080/"
        },
        "outputId": "6b703c0e-c6ca-4dbb-d875-d227329fe496"
      },
      "execution_count": 16,
      "outputs": [
        {
          "output_type": "stream",
          "name": "stdout",
          "text": [
            "[1, 2, 3, 4, 5]\n"
          ]
        }
      ]
    },
    {
      "cell_type": "markdown",
      "source": [
        "**7. Write a code to append the number 10 to the list [1, 2, 3, 4].**"
      ],
      "metadata": {
        "id": "99Pz6ekAjdMN"
      }
    },
    {
      "cell_type": "code",
      "source": [
        "numbers=[1, 2, 3, 4]\n",
        "numbers.append(10)\n",
        "print(numbers)"
      ],
      "metadata": {
        "id": "nGFh7eJ9jwOR",
        "colab": {
          "base_uri": "https://localhost:8080/"
        },
        "outputId": "548078bb-8d05-47b9-ffc0-fc1ed00615fe"
      },
      "execution_count": 17,
      "outputs": [
        {
          "output_type": "stream",
          "name": "stdout",
          "text": [
            "[1, 2, 3, 4, 10]\n"
          ]
        }
      ]
    },
    {
      "cell_type": "markdown",
      "source": [
        "**8. Write a code to remove the number 3 from the list [1, 2, 3, 4, 5].**"
      ],
      "metadata": {
        "id": "ZVcEn5NTjdmz"
      }
    },
    {
      "cell_type": "code",
      "source": [
        "numbers=[1, 2, 3, 4, 5]\n",
        "numbers.remove(3)\n",
        "print(numbers)"
      ],
      "metadata": {
        "id": "IOSq-0u4j3TC",
        "colab": {
          "base_uri": "https://localhost:8080/"
        },
        "outputId": "91366228-2235-48e0-c221-d95ae3a71410"
      },
      "execution_count": 18,
      "outputs": [
        {
          "output_type": "stream",
          "name": "stdout",
          "text": [
            "[1, 2, 4, 5]\n"
          ]
        }
      ]
    },
    {
      "cell_type": "markdown",
      "source": [
        "**9. Write a code to access the second element in the list ['a', 'b', 'c', 'd'].**"
      ],
      "metadata": {
        "id": "hKNI6E19jd-z"
      }
    },
    {
      "cell_type": "code",
      "source": [
        "letters=['a', 'b', 'c', 'd']\n",
        "print(letters[1])"
      ],
      "metadata": {
        "id": "20EV0PtFj8n5",
        "colab": {
          "base_uri": "https://localhost:8080/"
        },
        "outputId": "8a81e07e-1116-4c54-80dd-30ad34edb287"
      },
      "execution_count": 19,
      "outputs": [
        {
          "output_type": "stream",
          "name": "stdout",
          "text": [
            "b\n"
          ]
        }
      ]
    },
    {
      "cell_type": "markdown",
      "source": [
        "**10. Write a code to reverse the list [10, 20, 30, 40, 50].**"
      ],
      "metadata": {
        "id": "6m2QBDjkjeIi"
      }
    },
    {
      "cell_type": "code",
      "source": [
        "numbers=[10, 20, 30, 40, 50]\n",
        "print(numbers[::-1])"
      ],
      "metadata": {
        "id": "1Dc6HNlYkIYV",
        "colab": {
          "base_uri": "https://localhost:8080/"
        },
        "outputId": "1093cc09-c9fd-4131-b676-6acd6f06a3b8"
      },
      "execution_count": 20,
      "outputs": [
        {
          "output_type": "stream",
          "name": "stdout",
          "text": [
            "[50, 40, 30, 20, 10]\n"
          ]
        }
      ]
    },
    {
      "cell_type": "markdown",
      "source": [
        "**11. Write a code to create a tuple with the elements 100, 200, 300 and print it.**"
      ],
      "metadata": {
        "id": "Xt4KleeOjeM4"
      }
    },
    {
      "cell_type": "code",
      "source": [
        "my_tuple=(100, 200, 300)\n",
        "print(my_tuple)"
      ],
      "metadata": {
        "id": "t57pefS4kPfv",
        "colab": {
          "base_uri": "https://localhost:8080/"
        },
        "outputId": "3e8ce777-8d4a-4b78-baed-bffddf2ff714"
      },
      "execution_count": 21,
      "outputs": [
        {
          "output_type": "stream",
          "name": "stdout",
          "text": [
            "(100, 200, 300)\n"
          ]
        }
      ]
    },
    {
      "cell_type": "markdown",
      "source": [
        "**12. Write a code to access the second-to-last element of the tuple ('red', 'green', 'blue', 'yellow').**"
      ],
      "metadata": {
        "id": "jxeJn2E3jeQB"
      }
    },
    {
      "cell_type": "code",
      "source": [
        "colors=('red', 'green', 'blue', 'yellow')\n",
        "print(colors[-2])"
      ],
      "metadata": {
        "id": "s8tXMzHwkU5n",
        "colab": {
          "base_uri": "https://localhost:8080/"
        },
        "outputId": "caf6bada-ed0f-40cd-d5d0-9b7a03506914"
      },
      "execution_count": 22,
      "outputs": [
        {
          "output_type": "stream",
          "name": "stdout",
          "text": [
            "blue\n"
          ]
        }
      ]
    },
    {
      "cell_type": "markdown",
      "source": [
        "**13. Write a code to find the minimum number in the tuple (10, 20, 5, 15).**"
      ],
      "metadata": {
        "id": "ayvCwAf-jeTE"
      }
    },
    {
      "cell_type": "code",
      "source": [
        "numbers=(10, 20, 5, 15)\n",
        "print(min(numbers))"
      ],
      "metadata": {
        "id": "SpYdlElZkaz4",
        "colab": {
          "base_uri": "https://localhost:8080/"
        },
        "outputId": "5e4f8dfb-9687-4b84-ebd1-d54dd8207ca2"
      },
      "execution_count": 23,
      "outputs": [
        {
          "output_type": "stream",
          "name": "stdout",
          "text": [
            "5\n"
          ]
        }
      ]
    },
    {
      "cell_type": "markdown",
      "source": [
        "**14. Write a code to find the index of the element \"cat\" in the tuple ('dog', 'cat', 'rabbit').**"
      ],
      "metadata": {
        "id": "Tx-d5h17jeVU"
      }
    },
    {
      "cell_type": "code",
      "source": [
        "animals=('dog', 'cat', 'rabbit')\n",
        "print(animals.index(\"cat\"))"
      ],
      "metadata": {
        "id": "t1aTQ3ipkf-u",
        "colab": {
          "base_uri": "https://localhost:8080/"
        },
        "outputId": "9995182a-c16e-45ca-8d0f-58596a0ea66b"
      },
      "execution_count": 24,
      "outputs": [
        {
          "output_type": "stream",
          "name": "stdout",
          "text": [
            "1\n"
          ]
        }
      ]
    },
    {
      "cell_type": "markdown",
      "source": [
        "**15. Write a code to create a tuple containing three different fruits and check if \"kiwi\" is in it.**"
      ],
      "metadata": {
        "id": "tM-SamzkjeXj"
      }
    },
    {
      "cell_type": "code",
      "source": [
        "fruits=(\"apple\", \"banana\", \"orange\")\n",
        "print(\"kiwi\" in fruits)"
      ],
      "metadata": {
        "id": "jVsS8eYOkoaN",
        "colab": {
          "base_uri": "https://localhost:8080/"
        },
        "outputId": "52df69ed-e423-4f65-baf5-fce72ddf21e4"
      },
      "execution_count": 25,
      "outputs": [
        {
          "output_type": "stream",
          "name": "stdout",
          "text": [
            "False\n"
          ]
        }
      ]
    },
    {
      "cell_type": "markdown",
      "source": [
        "**16. Write a code to create a set with the elements 'a', 'b', 'c' and print it.**"
      ],
      "metadata": {
        "id": "1x1WmIhSjeZz"
      }
    },
    {
      "cell_type": "code",
      "source": [
        "my_set={'a', 'b', 'c'}\n",
        "print(my_set)"
      ],
      "metadata": {
        "id": "KuGmaUaFkwMG",
        "colab": {
          "base_uri": "https://localhost:8080/"
        },
        "outputId": "e5667076-3762-4521-f626-af5eb1a5cacd"
      },
      "execution_count": 26,
      "outputs": [
        {
          "output_type": "stream",
          "name": "stdout",
          "text": [
            "{'b', 'a', 'c'}\n"
          ]
        }
      ]
    },
    {
      "cell_type": "markdown",
      "source": [
        "**17. Write a code to clear all elements from the set {1, 2, 3, 4, 5}.**"
      ],
      "metadata": {
        "id": "f1i7rdiTjecI"
      }
    },
    {
      "cell_type": "code",
      "source": [
        "my_set={1, 2, 3, 4, 5}\n",
        "my_set.clear()\n",
        "print(my_set)"
      ],
      "metadata": {
        "id": "IjZ5Kdikk1Xg",
        "colab": {
          "base_uri": "https://localhost:8080/"
        },
        "outputId": "3567ea7a-667d-421c-8364-6f40990fa2b3"
      },
      "execution_count": 27,
      "outputs": [
        {
          "output_type": "stream",
          "name": "stdout",
          "text": [
            "set()\n"
          ]
        }
      ]
    },
    {
      "cell_type": "markdown",
      "source": [
        "**18. Write a code to remove the element 4 from the set {1, 2, 3, 4}.**"
      ],
      "metadata": {
        "id": "JNOOuzNQjeeV"
      }
    },
    {
      "cell_type": "code",
      "source": [
        "my_set={1, 2, 3, 4}\n",
        "my_set.remove(4)\n",
        "print(my_set)"
      ],
      "metadata": {
        "id": "9CFa2hqmk7OI",
        "colab": {
          "base_uri": "https://localhost:8080/"
        },
        "outputId": "342487bc-3433-4490-9498-0dd95248eb15"
      },
      "execution_count": 28,
      "outputs": [
        {
          "output_type": "stream",
          "name": "stdout",
          "text": [
            "{1, 2, 3}\n"
          ]
        }
      ]
    },
    {
      "cell_type": "markdown",
      "source": [
        "**19. Write a code to find the union of two sets {1, 2, 3} and {3, 4, 5}.**"
      ],
      "metadata": {
        "id": "Wz9ZXchIjegq"
      }
    },
    {
      "cell_type": "code",
      "source": [
        "set1={1, 2, 3}\n",
        "set2={3, 4, 5}\n",
        "print(set1.union(set2))"
      ],
      "metadata": {
        "id": "vG1dN2R_k_t3",
        "colab": {
          "base_uri": "https://localhost:8080/"
        },
        "outputId": "9985b5d4-ef54-4a34-c60d-a995589a371e"
      },
      "execution_count": 29,
      "outputs": [
        {
          "output_type": "stream",
          "name": "stdout",
          "text": [
            "{1, 2, 3, 4, 5}\n"
          ]
        }
      ]
    },
    {
      "cell_type": "markdown",
      "source": [
        "**20. Write a code to find the intersection of two sets {1, 2, 3} and {2, 3, 4}.**"
      ],
      "metadata": {
        "id": "E3dsZ74bjeiy"
      }
    },
    {
      "cell_type": "code",
      "source": [
        "set1={1, 2, 3}\n",
        "set2={2, 3, 4}\n",
        "print(set1.intersection(set2))"
      ],
      "metadata": {
        "id": "1YixnSJmlF6i",
        "colab": {
          "base_uri": "https://localhost:8080/"
        },
        "outputId": "23c69627-c1d7-466e-fa8f-81d7066ef471"
      },
      "execution_count": 30,
      "outputs": [
        {
          "output_type": "stream",
          "name": "stdout",
          "text": [
            "{2, 3}\n"
          ]
        }
      ]
    },
    {
      "cell_type": "markdown",
      "source": [
        "**21. Write a code to create a dictionary with the keys \"name\", \"age\", and \"city\", and print it.**"
      ],
      "metadata": {
        "id": "b5O9YTf2jelD"
      }
    },
    {
      "cell_type": "code",
      "source": [
        "person={\"name\": \"Soumyadip\", \"age\": 25, \"city\": \"Kolkata\"}\n",
        "print(person)"
      ],
      "metadata": {
        "id": "avpfch8HlLMH",
        "colab": {
          "base_uri": "https://localhost:8080/"
        },
        "outputId": "3cc0e076-fe8c-41c8-d4f0-044bfba90efc"
      },
      "execution_count": 31,
      "outputs": [
        {
          "output_type": "stream",
          "name": "stdout",
          "text": [
            "{'name': 'Soumyadip', 'age': 25, 'city': 'Kolkata'}\n"
          ]
        }
      ]
    },
    {
      "cell_type": "markdown",
      "source": [
        "**22. Write a code to add a new key-value pair \"country\": \"USA\" to the dictionary {'name': 'John', 'age': 25}.**"
      ],
      "metadata": {
        "id": "3UwJ3IHnjenU"
      }
    },
    {
      "cell_type": "code",
      "source": [
        "person={'name': 'John', 'age': 25}\n",
        "person[\"country\"]=\"USA\"\n",
        "print(person)"
      ],
      "metadata": {
        "id": "irA2CWvylRMv",
        "colab": {
          "base_uri": "https://localhost:8080/"
        },
        "outputId": "4d6c7048-07a9-4654-886e-d8f27caffd1c"
      },
      "execution_count": 32,
      "outputs": [
        {
          "output_type": "stream",
          "name": "stdout",
          "text": [
            "{'name': 'John', 'age': 25, 'country': 'USA'}\n"
          ]
        }
      ]
    },
    {
      "cell_type": "markdown",
      "source": [
        "**23. Write a code to access the value associated with the key \"name\" in the dictionary {'name': 'Alice', 'age': 30}.**"
      ],
      "metadata": {
        "id": "rc3udXGejepj"
      }
    },
    {
      "cell_type": "code",
      "source": [
        "person={'name': 'Alice', 'age': 30}\n",
        "print(person[\"name\"])"
      ],
      "metadata": {
        "id": "mv6L2IsElX6t",
        "colab": {
          "base_uri": "https://localhost:8080/"
        },
        "outputId": "2e5e0570-664b-4dff-aade-6c1e0707e1fa"
      },
      "execution_count": 33,
      "outputs": [
        {
          "output_type": "stream",
          "name": "stdout",
          "text": [
            "Alice\n"
          ]
        }
      ]
    },
    {
      "cell_type": "markdown",
      "source": [
        "**24. Write a code to remove the key \"age\" from the dictionary {'name': 'Bob', 'age': 22, 'city': 'New York'}.**"
      ],
      "metadata": {
        "id": "RAFhWt39jfuz"
      }
    },
    {
      "cell_type": "code",
      "source": [
        "person={'name': 'Bob', 'age': 22, 'city': 'New York'}\n",
        "del person[\"age\"]\n",
        "print(person)"
      ],
      "metadata": {
        "id": "9PAuOUDRldJy",
        "colab": {
          "base_uri": "https://localhost:8080/"
        },
        "outputId": "173c3f96-2737-4735-cd3e-d4d9f29681a3"
      },
      "execution_count": 34,
      "outputs": [
        {
          "output_type": "stream",
          "name": "stdout",
          "text": [
            "{'name': 'Bob', 'city': 'New York'}\n"
          ]
        }
      ]
    },
    {
      "cell_type": "markdown",
      "source": [
        "**25. Write a code to check if the key \"city\" exists in the dictionary {'name': 'Alice', 'city': 'Paris'}.**"
      ],
      "metadata": {
        "id": "zofqGjupjfyA"
      }
    },
    {
      "cell_type": "code",
      "source": [
        "person={'name': 'Alice', 'city': 'Paris'}\n",
        "print(\"city\" in person)"
      ],
      "metadata": {
        "id": "O4jd1VmElo3Z",
        "colab": {
          "base_uri": "https://localhost:8080/"
        },
        "outputId": "0d8d7600-bad9-4e19-cd87-1929420b9d63"
      },
      "execution_count": 35,
      "outputs": [
        {
          "output_type": "stream",
          "name": "stdout",
          "text": [
            "True\n"
          ]
        }
      ]
    },
    {
      "cell_type": "markdown",
      "source": [
        "**26. Write a code to create a list, a tuple, and a dictionary, and print them all.**"
      ],
      "metadata": {
        "id": "h9GVMiq9jf1S"
      }
    },
    {
      "cell_type": "code",
      "source": [
        "my_list=[1, 2, 3]\n",
        "my_tuple=(1, 2, 3)\n",
        "my_dict={\"a\": 1, \"b\": 2, \"c\": 3}\n",
        "print(my_list)\n",
        "print(my_tuple)\n",
        "print(my_dict)"
      ],
      "metadata": {
        "id": "vaRNKNzDluyH",
        "colab": {
          "base_uri": "https://localhost:8080/"
        },
        "outputId": "5ebfc282-4f7f-491e-9a1e-ff29e69726d5"
      },
      "execution_count": 36,
      "outputs": [
        {
          "output_type": "stream",
          "name": "stdout",
          "text": [
            "[1, 2, 3]\n",
            "(1, 2, 3)\n",
            "{'a': 1, 'b': 2, 'c': 3}\n"
          ]
        }
      ]
    },
    {
      "cell_type": "markdown",
      "source": [
        "**27. Write a code to create a list of 5 random numbers between 1 and 100, sort it in ascending order, and print the result.**"
      ],
      "metadata": {
        "id": "u6PQv5Qfjf4a"
      }
    },
    {
      "cell_type": "code",
      "source": [
        "import random\n",
        "numbers=[random.randint(1, 100) for _ in range(5)]\n",
        "numbers.sort()\n",
        "print(numbers)"
      ],
      "metadata": {
        "id": "eOD3dtnGmAOp",
        "colab": {
          "base_uri": "https://localhost:8080/"
        },
        "outputId": "13e3cd78-2ac6-42f5-a5b7-c933eab4905e"
      },
      "execution_count": 37,
      "outputs": [
        {
          "output_type": "stream",
          "name": "stdout",
          "text": [
            "[4, 22, 23, 80, 88]\n"
          ]
        }
      ]
    },
    {
      "cell_type": "markdown",
      "source": [
        "**28. Write a code to create a list with strings and print the element at the third index.**"
      ],
      "metadata": {
        "id": "AQPi3-7Yl-uw"
      }
    },
    {
      "cell_type": "code",
      "source": [
        "fruits=[\"apple\", \"banana\", \"orange\", \"grape\", \"kiwi\"]\n",
        "print(fruits[3])"
      ],
      "metadata": {
        "id": "X3j4nLWZmF1x",
        "colab": {
          "base_uri": "https://localhost:8080/"
        },
        "outputId": "7746b1ca-daf8-4e4e-c591-1e9a0e5c10ad"
      },
      "execution_count": 40,
      "outputs": [
        {
          "output_type": "stream",
          "name": "stdout",
          "text": [
            "grape\n"
          ]
        }
      ]
    },
    {
      "cell_type": "markdown",
      "source": [
        "**29. Write a code to combine two dictionaries into one and print the result.**"
      ],
      "metadata": {
        "id": "4rFj4VyCjf7i"
      }
    },
    {
      "cell_type": "code",
      "source": [
        "dict1 = {'a': 1, 'b': 2}\n",
        "dict2 = {'c': 3, 'd': 4}\n",
        "combined_dict = {**dict1, **dict2}\n",
        "print(\"Combined Dictionary:\", combined_dict)\n"
      ],
      "metadata": {
        "colab": {
          "base_uri": "https://localhost:8080/"
        },
        "id": "THr-B9VCq58T",
        "outputId": "9c4c3057-d772-4a10-a7fa-53548281a369"
      },
      "execution_count": 42,
      "outputs": [
        {
          "output_type": "stream",
          "name": "stdout",
          "text": [
            "Combined Dictionary: {'a': 1, 'b': 2, 'c': 3, 'd': 4}\n"
          ]
        }
      ]
    },
    {
      "cell_type": "markdown",
      "source": [
        "**30. Write a code to convert a list of strings into a set.**"
      ],
      "metadata": {
        "id": "sbNbIDarjf-n"
      }
    },
    {
      "cell_type": "code",
      "source": [
        "fruits=[\"apple\", \"banana\", \"orange\", \"mango\"]\n",
        "fruits_set=set(fruits)\n",
        "print(fruits_set)"
      ],
      "metadata": {
        "id": "0bk_v0vzmpSB",
        "colab": {
          "base_uri": "https://localhost:8080/"
        },
        "outputId": "5a55ae34-8dd7-4059-ea40-5e7bab3a1b2d"
      },
      "execution_count": 44,
      "outputs": [
        {
          "output_type": "stream",
          "name": "stdout",
          "text": [
            "{'apple', 'banana', 'orange', 'mango'}\n"
          ]
        }
      ]
    }
  ]
}